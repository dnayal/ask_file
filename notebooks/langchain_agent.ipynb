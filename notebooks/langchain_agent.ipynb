{
 "cells": [
  {
   "cell_type": "code",
   "execution_count": 2,
   "metadata": {},
   "outputs": [],
   "source": [
    "from langchain_nvidia_ai_endpoints import ChatNVIDIA\n",
    "from langchain_core.messages import HumanMessage, AIMessage\n",
    "\n",
    "from langgraph.checkpoint.memory import MemorySaver\n",
    "\n",
    "from langchain_community.tools.tavily_search import TavilySearchResults\n",
    "from langgraph.prebuilt import create_react_agent\n",
    "\n",
    "from langsmith import utils\n",
    "\n",
    "import os"
   ]
  },
  {
   "cell_type": "code",
   "execution_count": 3,
   "metadata": {},
   "outputs": [],
   "source": [
    "os.environ[\"LANGCHAIN_TRACING_V2\"]=\"true\"\n",
    "os.environ[\"LANGCHAIN_ENDPOINT\"]=\"https://eu.api.smith.langchain.com\"\n",
    "os.environ[\"LANGCHAIN_API_KEY\"]=\"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\"\n",
    "os.environ[\"LANGCHAIN_PROJECT\"]=\"langchain-agent-test\"\n",
    "\n",
    "os.environ[\"NVIDIA_API_KEY\"] = \"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\"\n",
    "os.environ[\"TAVILY_API_KEY\"] = \"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\""
   ]
  },
  {
   "cell_type": "code",
   "execution_count": 4,
   "metadata": {},
   "outputs": [
    {
     "data": {
      "text/plain": [
       "True"
      ]
     },
     "execution_count": 4,
     "metadata": {},
     "output_type": "execute_result"
    }
   ],
   "source": [
    "utils.tracing_is_enabled()"
   ]
  },
  {
   "cell_type": "code",
   "execution_count": 5,
   "metadata": {},
   "outputs": [
    {
     "name": "stdout",
     "output_type": "stream",
     "text": [
      "[{'url': 'https://www.weatherapi.com/', 'content': \"{'location': {'name': 'Barnet', 'region': 'Barnet, Greater London', 'country': 'United Kingdom', 'lat': 51.6445, 'lon': -0.2021, 'tz_id': 'Europe/London', 'localtime_epoch': 1732051879, 'localtime': '2024-11-19 21:31'}, 'current': {'last_updated_epoch': 1732051800, 'last_updated': '2024-11-19 21:30', 'temp_c': 1.2, 'temp_f': 34.2, 'is_day': 0, 'condition': {'text': 'Clear', 'icon': '//cdn.weatherapi.com/weather/64x64/night/113.png', 'code': 1000}, 'wind_mph': 11.0, 'wind_kph': 17.6, 'wind_degree': 334, 'wind_dir': 'NNW', 'pressure_mb': 1004.0, 'pressure_in': 29.65, 'precip_mm': 0.0, 'precip_in': 0.0, 'humidity': 93, 'cloud': 0, 'feelslike_c': -3.4, 'feelslike_f': 25.9, 'windchill_c': -2.8, 'windchill_f': 27.0, 'heatindex_c': 1.7, 'heatindex_f': 35.0, 'dewpoint_c': -1.6, 'dewpoint_f': 29.1, 'vis_km': 10.0, 'vis_miles': 6.0, 'uv': 0.0, 'gust_mph': 17.0, 'gust_kph': 27.4}}\"}, {'url': 'https://www.ventusky.com/barnet', 'content': \"Barnet ☀ Weather forecast for 10 days, information from meteorological stations, webcams, sunrise and sunset, wind and precipitation maps for this place ... United Kingdom / Lat.: 51°39'N / Lon.: 0°11'W / Altitude: 129 m Timezone: Europe/London (UTC+0) / Current time: 01:00 2024/11/11 . Current Weather ; Forecast ; Sun and Moon ; 10 °C\"}, {'url': 'https://www.metoffice.gov.uk/weather/forecast/gcpvg7p52?nearestTo=Barnet+(Barnet)', 'content': 'Barnet 7 day weather forecast including weather warnings, temperature, rain, wind, visibility, humidity and UV ... (19 November 2024) Time: 00:00 03:00 06:00 09:00 12:00 15:00 18:00 21:00 Weather symbols: Chance of precipitation : ... United Kingdom; London & South East England; Locations All locations in London & South East England;'}, {'url': 'https://www.timeanddate.com/weather/@3333121', 'content': '74 / 60 °F. 19. 74 / 60 °F. 20. 73 / 60 °F. 21. Detailed forecast for 14 days. Need some help? Current weather in Barnet and forecast for today, tomorrow, and next 14 days.'}, {'url': 'https://www.wunderground.com/weather/gb/london-borough-of-barnet', 'content': '24% Precip. Overcast. Low 47F. Winds W at 5 to 10 mph. 0% Dry conditions for the next 6 hours. London Borough of Barnet Weather Forecasts. Weather Underground provides local & long-range weather'}]\n"
     ]
    },
    {
     "name": "stderr",
     "output_type": "stream",
     "text": [
      "Failed to multipart ingest runs: langsmith.utils.LangSmithError: Failed to POST https://eu.api.smith.langchain.com/runs/multipart in LangSmith API. HTTPError('400 Client Error: Bad Request for url: https://eu.api.smith.langchain.com/runs/multipart', '{\"detail\":\"Empty request\"}')\n"
     ]
    }
   ],
   "source": [
    "# using Tavily Search for online search to be used as an agent\n",
    "search = TavilySearchResults(max_results=5)\n",
    "\n",
    "search_results = search.invoke(\"What is the current weather in Barnet, London, United Kingdom\")\n",
    "print(search_results)\n",
    "\n",
    "tools = [search]"
   ]
  },
  {
   "cell_type": "code",
   "execution_count": 6,
   "metadata": {},
   "outputs": [],
   "source": [
    "# initialise NVIDIA model for chat\n",
    "model = ChatNVIDIA(model=\"meta/llama-3.1-405b-instruct\")\n"
   ]
  },
  {
   "cell_type": "code",
   "execution_count": 8,
   "metadata": {},
   "outputs": [
    {
     "data": {
      "text/plain": [
       "'Nice to meet you, Deepak! How are you doing today? Is there something I can help you with or would you like to just chat?'"
      ]
     },
     "execution_count": 8,
     "metadata": {},
     "output_type": "execute_result"
    }
   ],
   "source": [
    "response = model.invoke([HumanMessage(content = \"Hi, my name is Deepak!\")])\n",
    "response.content"
   ]
  },
  {
   "cell_type": "code",
   "execution_count": 9,
   "metadata": {},
   "outputs": [],
   "source": [
    "# explicitly bind the tools to the model\n",
    "model_with_tools = model.bind_tools(tools)"
   ]
  },
  {
   "cell_type": "code",
   "execution_count": 10,
   "metadata": {},
   "outputs": [
    {
     "name": "stdout",
     "output_type": "stream",
     "text": [
      "ContentString: That's a great city. What can I help you with today?\n",
      "ToolCalls: []\n"
     ]
    }
   ],
   "source": [
    "# tool does not get called with this query\n",
    "response = model_with_tools.invoke([HumanMessage(content=\"I live in London, UK\")])\n",
    "\n",
    "print(f\"ContentString: {response.content}\")\n",
    "print(f\"ToolCalls: {response.tool_calls}\")"
   ]
  },
  {
   "cell_type": "code",
   "execution_count": 11,
   "metadata": {},
   "outputs": [
    {
     "name": "stdout",
     "output_type": "stream",
     "text": [
      "ContentString: \n",
      "ToolCalls: [{'name': 'tavily_search_results_json', 'args': {'query': 'Delhi India time now'}, 'id': 'chatcmpl-tool-bfc3bbb7e42a4d528aee3a6736a253f9', 'type': 'tool_call'}]\n"
     ]
    }
   ],
   "source": [
    "# tool gets called with this query\n",
    "response = model_with_tools.invoke([HumanMessage(content = \"What is the time in Delhi, India right now?\")])\n",
    "\n",
    "print(f\"ContentString: {response.content}\")\n",
    "print(f\"ToolCalls: {response.tool_calls}\")"
   ]
  },
  {
   "cell_type": "code",
   "execution_count": 15,
   "metadata": {},
   "outputs": [],
   "source": [
    "# we are using Langraph to bind the tool with the model\n",
    "# bind_tools get called internally\n",
    "agent_executor = create_react_agent(model, tools)"
   ]
  },
  {
   "cell_type": "code",
   "execution_count": 13,
   "metadata": {},
   "outputs": [
    {
     "data": {
      "text/plain": [
       "[HumanMessage(content='Hi, my name is Deepak!', additional_kwargs={}, response_metadata={}, id='6e6dc2ff-617f-4e05-8d11-6bd51d1d7ec4'),\n",
       " AIMessage(content=\"Hello Deepak! It's nice to meet you. Is there something I can help you with today?\", additional_kwargs={}, response_metadata={'role': 'assistant', 'content': \"Hello Deepak! It's nice to meet you. Is there something I can help you with today?\", 'token_usage': {'prompt_tokens': 316, 'total_tokens': 337, 'completion_tokens': 21}, 'finish_reason': 'stop', 'model_name': 'meta/llama-3.1-405b-instruct'}, id='run-9d53ffb6-876d-4264-b9d8-dca3fb65c068-0', usage_metadata={'input_tokens': 316, 'output_tokens': 21, 'total_tokens': 337}, role='assistant')]"
      ]
     },
     "execution_count": 13,
     "metadata": {},
     "output_type": "execute_result"
    }
   ],
   "source": [
    "# Search agent does not get invoked\n",
    "response = agent_executor.invoke({\"messages\": [HumanMessage(content = \"Hi, my name is Deepak!\")]})\n",
    "\n",
    "response[\"messages\"]"
   ]
  },
  {
   "cell_type": "code",
   "execution_count": 14,
   "metadata": {},
   "outputs": [
    {
     "data": {
      "text/plain": [
       "[HumanMessage(content='Which is the highest grossing movie of all time in the world?', additional_kwargs={}, response_metadata={}, id='1072f7e4-1819-45bb-ac64-e822447423de'),\n",
       " AIMessage(content='', additional_kwargs={'tool_calls': [{'id': 'chatcmpl-tool-2f9e6228a3344a1d957c9653c108b5ae', 'type': 'function', 'function': {'name': 'tavily_search_results_json', 'arguments': '{\"query\": \"highest grossing movie of all time\"}'}}]}, response_metadata={'role': 'assistant', 'content': None, 'tool_calls': [{'id': 'chatcmpl-tool-2f9e6228a3344a1d957c9653c108b5ae', 'type': 'function', 'function': {'name': 'tavily_search_results_json', 'arguments': '{\"query\": \"highest grossing movie of all time\"}'}}], 'token_usage': {'prompt_tokens': 322, 'total_tokens': 357, 'completion_tokens': 35}, 'finish_reason': 'tool_calls', 'model_name': 'meta/llama-3.1-405b-instruct'}, id='run-210ec42b-fc5d-4312-b5b8-a94d864b4882-0', tool_calls=[{'name': 'tavily_search_results_json', 'args': {'query': 'highest grossing movie of all time'}, 'id': 'chatcmpl-tool-2f9e6228a3344a1d957c9653c108b5ae', 'type': 'tool_call'}], usage_metadata={'input_tokens': 322, 'output_tokens': 35, 'total_tokens': 357}, role='assistant'),\n",
       " ToolMessage(content='[{\"url\": \"https://editorial.rottentomatoes.com/article/highest-grossing-movies-all-time/\", \"content\": \"(Photo by ©Warner Bros. Studios) [Box office figures as of 11/20/2023] After Avengers: Endgame and Avatar duked it out for bragging rights as the all-time highest-grossing movie in 2019, the world was hit by the COVID-19 pandemic, which effectively shuttered theaters (some of them never to reopen), and this list seemed safe for the time being. But in late 2021, Spider-Man: No Way Home blew\"}, {\"url\": \"https://en.wikipedia.org/wiki/List_of_highest-grossing_films\", \"content\": \"One notable example of this phenomenon is Avatar, which was also released in 3D and IMAX: almost two-thirds of tickets for that film were for 3D showings with an average price of $10, and about one-sixth were for IMAX showings with an average price over $14.50, compared to a 2010 average price of $7.61 for 2D films.[25] Social and economic factors such as population change[26] and the growth of international markets[27][28][29] also have an effect on the number of people purchasing theater tickets, along with audience demographics where some films sell a much higher proportion of discounted children\\'s tickets, or perform better in big cities where tickets cost more.[23]\\\\nThe measuring system for gauging a film\\'s success is based on unadjusted grosses, mainly because historically this is the way it has always been done because of the practices of the film industry: the box-office receipts are compiled by theaters and relayed to the distributor, which in turn releases them to the media.[30] Converting to a more representative system that counts ticket sales rather than gross is also fraught with problems because the only data available for older films are the sale totals.[26] As the motion picture industry is highly oriented towards marketing currently released films, unadjusted figures are always used in marketing campaigns so that new blockbuster films can much more easily achieve a high sales ranking, and thus be promoted as a \\\\\"top film of all time\\\\\",[24][31] In keeping with this new approach, the North American rental for Gone with the Wind was revised to $21\\xa0million in 1947 ($11\\xa0million lower than the previous figure),[58] and as of 1953—following the 1947 re-release—Variety was reporting earnings of $26\\xa0million.[59] Through 1956, MGM reported cumulative North American earnings of $30,015,000 and foreign earnings of $18,964,000, from three releases.[60] Worldwide rentals of $32\\xa0million from the initial release is consistent with the revised figures and later reported worldwide figures: they indicate that the film earned $21\\xa0million in North America and $11\\xa0million overseas from the initial release, and added a further $9\\xa0million in North America and $8\\xa0million overseas from subsequent re-releases up to 1956.\\\\n Its international release was delayed by World War I, and it was not released in many foreign territories until the 1920s; coupled with further re-releases in the United States, its $10\\xa0million earnings as reported by Variety in 1932 are consistent with the earlier figure.[66] At this time, Variety still had The Birth of a Nation ahead of The Big Parade ($6,400,000) on distributor rentals and—if its estimate is correct—Snow White and the Seven Dwarfs ($8,500,000)[67] would not have earned enough on its first theatrical run to take the record;[68] although it would have been the highest-grossing \\'talkie\\',[69] displacing The Singing Fool ($5,900,000).[70] It was hugely popular with the Ku Klux Klan who used it to drive recruitment,[74] and at one point Variety estimated its total earnings to stand at around $50\\xa0million.[75] Despite later retracting the claim, the sum has been widely reported even though it has never been substantiated.[65] While it is generally accepted that Gone with the Wind took over the record of highest-grossing film on its initial release—which is true in terms of public exhibition—it is likely it did not overtake The Birth of a Nation in total revenue until a much later date, with it still being reported as the highest earner up until the 1960s.[73] The original release and 2010 Special Edition grosses are adjusted from the Guinness base year, whilst the 2020 and 2021 grosses are adjusted from the 2021 index and the 2022 gross from 2022.[37]\\\\nTGuinness\\' adjusted total for Titanic only increased by $102,000,000 between the 2012 (published in 2011) and 2015 editions, a rise of 4.2% shared by the other adjusted totals in the chart, and omitted the gross from a 3D re-release in 2012.[35][38]\"}, {\"url\": \"https://deadline.com/gallery/highest-grossing-movies-all-time/\", \"content\": \"Deadline Deadline The film, starring Ryan Reynolds and Hugh Jackman, joined the ranks of Disney’s other 2024 box office animated hit, Inside Out 2. 1. AVATAR, 2009 – $2,923,706,026 Read Deadline’s review here Read Deadline’s review here Read Deadline’s review here Read Deadline’s review here Read Deadline’s review here 8. INSIDE OUT 2, 2024 – $1,697,092,880 Read Deadline’s review here Read Deadline’s review here Read Deadline’s review here Read Deadline’s review here Read Deadline’s review here Read Deadline’s review here BARBIE, 2023 – $1,446,938,421 Read Deadline’s review here MOVIE, 2023 – $1,362,566,989 ROGUE ONE: A STAR WARS STORY, 2016 – $1,058,684,742 STAR WARS: EPISODE I – THE PHANTOM MENACE, 1999 – $1,046,515,409 Deadline Deadline Deadline Box Office Expand the sub-menu\"}, {\"url\": \"https://www.ign.com/articles/highest-grossing-movies-of-all-time\", \"content\": \"While The Incredibles 2, the live-action remake of Beauty and the Beast, and Finding Dory all passed Frozen 2 at the domestic box office, only the live-action remake of The Lion King could do so on the worldwide stage in the Disney-verse.\\\\n Frozen’s Let It Go may be one of the most iconic Disney songs of all time after it was played millions of times over when the film was first released in 2013, but its sequel is the one that ran ahead of it to a spot in the top 15. Not only was it the first film in the franchise since Revenge of the Sith and the controversial prequel trilogy, but it was also the first film and major project following The Walt Disney Company’s acquisition of Lucasfilm. The sequels never quite reached the height of the original in the new trilogy, but both did cross $1 billion and proved that dinos are here to stay.\\\\nRead our review of Jurassic World or see our guide to watching the Jurassic Park movies in order.\\\\n Furious 7’s sequel The Fate of the Furious is currently sitting at 22nd with $1.24 billion at the global box office, and the next on the list is Fast & Furious 6’s $788 million at 106.\\\\nRead our review of Furious 7.\\\\n12.\"}, {\"url\": \"https://www.boxofficemojo.com/chart/top_lifetime_gross/?area=XWW\", \"content\": \"This webpage lists the top lifetime grosses of movies on Box Office Mojo.\"}]', name='tavily_search_results_json', id='5567a19f-2fc6-48dc-99c1-a26693081b93', tool_call_id='chatcmpl-tool-2f9e6228a3344a1d957c9653c108b5ae', artifact={'query': 'highest grossing movie of all time', 'follow_up_questions': None, 'answer': None, 'images': [], 'results': [{'title': 'The 50 Highest-Grossing Movies of All Time: Your Top Box Office Earners ...', 'url': 'https://editorial.rottentomatoes.com/article/highest-grossing-movies-all-time/', 'content': '(Photo by ©Warner Bros. Studios) [Box office figures as of 11/20/2023] After Avengers: Endgame and Avatar duked it out for bragging rights as the all-time highest-grossing movie in 2019, the world was hit by the COVID-19 pandemic, which effectively shuttered theaters (some of them never to reopen), and this list seemed safe for the time being. But in late 2021, Spider-Man: No Way Home blew', 'score': 0.99047756, 'raw_content': None}, {'title': 'List of highest-grossing films - Wikipedia', 'url': 'https://en.wikipedia.org/wiki/List_of_highest-grossing_films', 'content': 'One notable example of this phenomenon is Avatar, which was also released in 3D and IMAX: almost two-thirds of tickets for that film were for 3D showings with an average price of $10, and about one-sixth were for IMAX showings with an average price over $14.50, compared to a 2010 average price of $7.61 for 2D films.[25] Social and economic factors such as population change[26] and the growth of international markets[27][28][29] also have an effect on the number of people purchasing theater tickets, along with audience demographics where some films sell a much higher proportion of discounted children\\'s tickets, or perform better in big cities where tickets cost more.[23]\\nThe measuring system for gauging a film\\'s success is based on unadjusted grosses, mainly because historically this is the way it has always been done because of the practices of the film industry: the box-office receipts are compiled by theaters and relayed to the distributor, which in turn releases them to the media.[30] Converting to a more representative system that counts ticket sales rather than gross is also fraught with problems because the only data available for older films are the sale totals.[26] As the motion picture industry is highly oriented towards marketing currently released films, unadjusted figures are always used in marketing campaigns so that new blockbuster films can much more easily achieve a high sales ranking, and thus be promoted as a \"top film of all time\",[24][31] In keeping with this new approach, the North American rental for Gone with the Wind was revised to $21\\xa0million in 1947 ($11\\xa0million lower than the previous figure),[58] and as of 1953—following the 1947 re-release—Variety was reporting earnings of $26\\xa0million.[59] Through 1956, MGM reported cumulative North American earnings of $30,015,000 and foreign earnings of $18,964,000, from three releases.[60] Worldwide rentals of $32\\xa0million from the initial release is consistent with the revised figures and later reported worldwide figures: they indicate that the film earned $21\\xa0million in North America and $11\\xa0million overseas from the initial release, and added a further $9\\xa0million in North America and $8\\xa0million overseas from subsequent re-releases up to 1956.\\n Its international release was delayed by World War I, and it was not released in many foreign territories until the 1920s; coupled with further re-releases in the United States, its $10\\xa0million earnings as reported by Variety in 1932 are consistent with the earlier figure.[66] At this time, Variety still had The Birth of a Nation ahead of The Big Parade ($6,400,000) on distributor rentals and—if its estimate is correct—Snow White and the Seven Dwarfs ($8,500,000)[67] would not have earned enough on its first theatrical run to take the record;[68] although it would have been the highest-grossing \\'talkie\\',[69] displacing The Singing Fool ($5,900,000).[70] It was hugely popular with the Ku Klux Klan who used it to drive recruitment,[74] and at one point Variety estimated its total earnings to stand at around $50\\xa0million.[75] Despite later retracting the claim, the sum has been widely reported even though it has never been substantiated.[65] While it is generally accepted that Gone with the Wind took over the record of highest-grossing film on its initial release—which is true in terms of public exhibition—it is likely it did not overtake The Birth of a Nation in total revenue until a much later date, with it still being reported as the highest earner up until the 1960s.[73] The original release and 2010 Special Edition grosses are adjusted from the Guinness base year, whilst the 2020 and 2021 grosses are adjusted from the 2021 index and the 2022 gross from 2022.[37]\\nTGuinness\\' adjusted total for Titanic only increased by $102,000,000 between the 2012 (published in 2011) and 2015 editions, a rise of 4.2% shared by the other adjusted totals in the chart, and omitted the gross from a 3D re-release in 2012.[35][38]', 'score': 0.93991333, 'raw_content': None}, {'title': 'The 55 Highest Grossing Movies Of All Time - Deadline', 'url': 'https://deadline.com/gallery/highest-grossing-movies-all-time/', 'content': 'Deadline Deadline The film, starring Ryan Reynolds and Hugh Jackman, joined the ranks of Disney’s other 2024 box office animated hit, Inside Out 2. 1. AVATAR, 2009 – $2,923,706,026 Read Deadline’s review here Read Deadline’s review here Read Deadline’s review here Read Deadline’s review here Read Deadline’s review here 8. INSIDE OUT 2, 2024 – $1,697,092,880 Read Deadline’s review here Read Deadline’s review here Read Deadline’s review here Read Deadline’s review here Read Deadline’s review here Read Deadline’s review here BARBIE, 2023 – $1,446,938,421 Read Deadline’s review here MOVIE, 2023 – $1,362,566,989 ROGUE ONE: A STAR WARS STORY, 2016 – $1,058,684,742 STAR WARS: EPISODE I – THE PHANTOM MENACE, 1999 – $1,046,515,409 Deadline Deadline Deadline Box Office Expand the sub-menu', 'score': 0.8797679, 'raw_content': None}, {'title': 'The 15 Highest Grossing Movies of All Time - IGN', 'url': 'https://www.ign.com/articles/highest-grossing-movies-of-all-time', 'content': 'While The Incredibles 2, the live-action remake of Beauty and the Beast, and Finding Dory all passed Frozen 2 at the domestic box office, only the live-action remake of The Lion King could do so on the worldwide stage in the Disney-verse.\\n Frozen’s Let It Go may be one of the most iconic Disney songs of all time after it was played millions of times over when the film was first released in 2013, but its sequel is the one that ran ahead of it to a spot in the top 15. Not only was it the first film in the franchise since Revenge of the Sith and the controversial prequel trilogy, but it was also the first film and major project following The Walt Disney Company’s acquisition of Lucasfilm. The sequels never quite reached the height of the original in the new trilogy, but both did cross $1 billion and proved that dinos are here to stay.\\nRead our review of Jurassic World or see our guide to watching the Jurassic Park movies in order.\\n Furious 7’s sequel The Fate of the Furious is currently sitting at 22nd with $1.24 billion at the global box office, and the next on the list is Fast & Furious 6’s $788 million at 106.\\nRead our review of Furious 7.\\n12.', 'score': 0.8565725, 'raw_content': None}, {'title': 'Top Lifetime Grosses - Box Office Mojo', 'url': 'https://www.boxofficemojo.com/chart/top_lifetime_gross/?area=XWW', 'content': 'This webpage lists the top lifetime grosses of movies on Box Office Mojo.', 'score': 0.81640637, 'raw_content': None}], 'response_time': 3.03}),\n",
       " AIMessage(content='The current highest-grossing movie of all time in the world is Avatar, with a total gross of $2,923,706,026.', additional_kwargs={}, response_metadata={'role': 'assistant', 'content': 'The current highest-grossing movie of all time in the world is Avatar, with a total gross of $2,923,706,026.', 'token_usage': {'prompt_tokens': 2140, 'total_tokens': 2170, 'completion_tokens': 30}, 'finish_reason': 'stop', 'model_name': 'meta/llama-3.1-405b-instruct'}, id='run-f53bf2fd-1789-49d9-b18f-0a13263f5f50-0', usage_metadata={'input_tokens': 2140, 'output_tokens': 30, 'total_tokens': 2170}, role='assistant')]"
      ]
     },
     "execution_count": 14,
     "metadata": {},
     "output_type": "execute_result"
    }
   ],
   "source": [
    "# Search agent gets invoked\n",
    "response = agent_executor.invoke({\"messages\":[HumanMessage(content=\"Which is the highest grossing movie of all time in the world?\")]})\n",
    "\n",
    "response[\"messages\"]"
   ]
  },
  {
   "cell_type": "code",
   "execution_count": 16,
   "metadata": {},
   "outputs": [
    {
     "name": "stdout",
     "output_type": "stream",
     "text": [
      "{'agent': {'messages': [AIMessage(content='', additional_kwargs={'tool_calls': [{'id': 'chatcmpl-tool-d8a0e5ff699443b483ba14fba1855be0', 'type': 'function', 'function': {'name': 'tavily_search_results_json', 'arguments': '{\"query\": \"Svalbard temperature\"}'}}]}, response_metadata={'role': 'assistant', 'content': None, 'tool_calls': [{'id': 'chatcmpl-tool-d8a0e5ff699443b483ba14fba1855be0', 'type': 'function', 'function': {'name': 'tavily_search_results_json', 'arguments': '{\"query\": \"Svalbard temperature\"}'}}], 'token_usage': {'prompt_tokens': 317, 'total_tokens': 350, 'completion_tokens': 33}, 'finish_reason': 'tool_calls', 'model_name': 'meta/llama-3.1-405b-instruct'}, id='run-7ad4dd99-3777-4a10-ac50-e51867b57544-0', tool_calls=[{'name': 'tavily_search_results_json', 'args': {'query': 'Svalbard temperature'}, 'id': 'chatcmpl-tool-d8a0e5ff699443b483ba14fba1855be0', 'type': 'tool_call'}], usage_metadata={'input_tokens': 317, 'output_tokens': 33, 'total_tokens': 350}, role='assistant')]}}\n",
      "----\n",
      "{'tools': {'messages': [ToolMessage(content='[{\"url\": \"https://www.climatestotravel.com/climate/norway/svalbard\", \"content\": \"The following climate data refer to the Svalbard Airport, Longyear. Svalbard - Climate data In Svalbard, the average temperature of the coldest month (March) is of -12.2 °C (10.1 °F), that of the warmest month (July) is of 7.4 °C (45.3 °F). Here are the average temperatures.\"}, {\"url\": \"https://www.timeanddate.com/weather/norway/longyearbyen/ext\", \"content\": \"Find out the weather conditions and temperature for Longyearbyen, Svalbard, Norway for the next two weeks. See the high and low temperatures, precipitation, wind, humidity, and UV index for each day.\"}, {\"url\": \"https://www.timeanddate.com/weather/norway/longyearbyen\", \"content\": \"Current weather in Longyearbyen and forecast for today, tomorrow, and next 14 days\"}, {\"url\": \"https://en.wikipedia.org/wiki/Climate_of_Svalbard\", \"content\": \"Learn about the climate of Svalbard, a Norwegian archipelago in the Arctic Ocean, and how it is influenced by ocean currents, glaciers and human activities. Find historical data, temperature averages and weather forecasts for different settlements on Svalbard.\"}, {\"url\": \"https://www.accuweather.com/en/sj/longyearbyen/310461/weather-forecast/310461\", \"content\": \"Longyearbyen, Svalbard, Svalbard And Jan Mayen Weather Forecast, with current conditions, wind, air quality, and what to expect for the next 3 days.\"}]', name='tavily_search_results_json', id='6df54fcf-b806-40a3-8daf-0db3d44bd4f2', tool_call_id='chatcmpl-tool-d8a0e5ff699443b483ba14fba1855be0', artifact={'query': 'Svalbard temperature', 'follow_up_questions': None, 'answer': None, 'images': [], 'results': [{'title': 'Svalbard climate: weather by month, temperature, rain - Climates to Travel', 'url': 'https://www.climatestotravel.com/climate/norway/svalbard', 'content': 'The following climate data refer to the Svalbard Airport, Longyear. Svalbard - Climate data In Svalbard, the average temperature of the coldest month (March) is of -12.2 °C (10.1 °F), that of the warmest month (July) is of 7.4 °C (45.3 °F). Here are the average temperatures.', 'score': 0.99936134, 'raw_content': None}, {'title': 'Longyearbyen, Svalbard, Norway 14 day weather forecast - timeanddate.com', 'url': 'https://www.timeanddate.com/weather/norway/longyearbyen/ext', 'content': 'Find out the weather conditions and temperature for Longyearbyen, Svalbard, Norway for the next two weeks. See the high and low temperatures, precipitation, wind, humidity, and UV index for each day.', 'score': 0.7749242, 'raw_content': None}, {'title': 'Weather in Longyearbyen, Svalbard, Norway - timeanddate.com', 'url': 'https://www.timeanddate.com/weather/norway/longyearbyen', 'content': 'Current weather in Longyearbyen and forecast for today, tomorrow, and next 14 days', 'score': 0.67319167, 'raw_content': None}, {'title': 'Climate of Svalbard - Wikipedia', 'url': 'https://en.wikipedia.org/wiki/Climate_of_Svalbard', 'content': 'Learn about the climate of Svalbard, a Norwegian archipelago in the Arctic Ocean, and how it is influenced by ocean currents, glaciers and human activities. Find historical data, temperature averages and weather forecasts for different settlements on Svalbard.', 'score': 0.5897754, 'raw_content': None}, {'title': 'Longyearbyen, Svalbard, Svalbard And Jan Mayen Weather Forecast ...', 'url': 'https://www.accuweather.com/en/sj/longyearbyen/310461/weather-forecast/310461', 'content': 'Longyearbyen, Svalbard, Svalbard And Jan Mayen Weather Forecast, with current conditions, wind, air quality, and what to expect for the next 3 days.', 'score': 0.56745726, 'raw_content': None}], 'response_time': 2.14})]}}\n",
      "----\n",
      "{'agent': {'messages': [AIMessage(content='The current temperature in Svalbard is not specified in the search results provided. However, the average temperature of the coldest month (March) is -12.2 \\\\u00b0C (10.1 \\\\u00b0F), and the average temperature of the warmest month (July) is 7.4 \\\\u00b0C (45.3 \\\\u00b0F), according to the climate data from Svalbard Airport, Longyear.', additional_kwargs={}, response_metadata={'role': 'assistant', 'content': 'The current temperature in Svalbard is not specified in the search results provided. However, the average temperature of the coldest month (March) is -12.2 \\\\u00b0C (10.1 \\\\u00b0F), and the average temperature of the warmest month (July) is 7.4 \\\\u00b0C (45.3 \\\\u00b0F), according to the climate data from Svalbard Airport, Longyear.', 'token_usage': {'prompt_tokens': 745, 'total_tokens': 844, 'completion_tokens': 99}, 'finish_reason': 'stop', 'model_name': 'meta/llama-3.1-405b-instruct'}, id='run-39383aef-4b14-4006-b1a7-e5bc41015829-0', usage_metadata={'input_tokens': 745, 'output_tokens': 99, 'total_tokens': 844}, role='assistant')]}}\n",
      "----\n"
     ]
    }
   ],
   "source": [
    "# streaming messages\n",
    "for chunk in agent_executor.stream(\n",
    "    {\"messages\":[HumanMessage(content=\"What is the temperature in Svalbard?\")]}\n",
    "):\n",
    "    print(chunk)\n",
    "    print(\"----\")\n",
    "\n"
   ]
  },
  {
   "cell_type": "code",
   "execution_count": 18,
   "metadata": {},
   "outputs": [
    {
     "name": "stdout",
     "output_type": "stream",
     "text": [
      "{'agent': {'messages': [AIMessage(content=\"Hello Myra! Nice to meet you! Edinburgh is a beautiful city, I've heard. How do you like living there? Is there something I can help you with or would you like to chat about something in particular?\", additional_kwargs={}, response_metadata={'role': 'assistant', 'content': \"Hello Myra! Nice to meet you! Edinburgh is a beautiful city, I've heard. How do you like living there? Is there something I can help you with or would you like to chat about something in particular?\", 'token_usage': {'prompt_tokens': 321, 'total_tokens': 366, 'completion_tokens': 45}, 'finish_reason': 'stop', 'model_name': 'meta/llama-3.1-405b-instruct'}, id='run-25cb2e59-ec1e-4701-ab9d-91f4f6c77b46-0', usage_metadata={'input_tokens': 321, 'output_tokens': 45, 'total_tokens': 366}, role='assistant')]}}\n",
      "-----\n"
     ]
    }
   ],
   "source": [
    "# adding memory to the agent conversation\n",
    "memory = MemorySaver()\n",
    "\n",
    "agent_executor = create_react_agent(model, tools, checkpointer=memory)\n",
    "\n",
    "config = {\"configurable\": {\"thread_id\":\"abc123\"}}\n",
    "\n",
    "for chunk in agent_executor.stream(\n",
    "    {\"messages\":[HumanMessage(content=\"Hi! this is Myra. I live in Edinburgh, Scotland\")]}, config\n",
    "):\n",
    "    print(chunk)\n",
    "    print(\"-----\")"
   ]
  },
  {
   "cell_type": "code",
   "execution_count": 19,
   "metadata": {},
   "outputs": [
    {
     "name": "stdout",
     "output_type": "stream",
     "text": [
      "{'agent': {'messages': [AIMessage(content='', additional_kwargs={'tool_calls': [{'id': 'chatcmpl-tool-bc78ce885e32428c9f4848249194279f', 'type': 'function', 'function': {'name': 'tavily_search_results_json', 'arguments': '{\"query\": \"current temperature in Edinburgh, Scotland\"}'}}]}, response_metadata={'role': 'assistant', 'content': None, 'tool_calls': [{'id': 'chatcmpl-tool-bc78ce885e32428c9f4848249194279f', 'type': 'function', 'function': {'name': 'tavily_search_results_json', 'arguments': '{\"query\": \"current temperature in Edinburgh, Scotland\"}'}}], 'token_usage': {'prompt_tokens': 385, 'total_tokens': 415, 'completion_tokens': 30}, 'finish_reason': 'tool_calls', 'model_name': 'meta/llama-3.1-405b-instruct'}, id='run-2b937ec3-1167-477b-8509-2d14154a71bc-0', tool_calls=[{'name': 'tavily_search_results_json', 'args': {'query': 'current temperature in Edinburgh, Scotland'}, 'id': 'chatcmpl-tool-bc78ce885e32428c9f4848249194279f', 'type': 'tool_call'}], usage_metadata={'input_tokens': 385, 'output_tokens': 30, 'total_tokens': 415}, role='assistant')]}}\n",
      "-----\n",
      "{'tools': {'messages': [ToolMessage(content='[{\"url\": \"https://www.timeanddate.com/weather/uk/edinburgh/ext\", \"content\": \"Edinburgh 14 Day Extended Forecast. Time/General. Time Zone. DST Changes. Sun & Moon. Weather Today Weather Hourly 14 Day Forecast Yesterday/Past Weather Climate (Averages) Currently: 45 °F. Fog. (Weather station: Edinburgh Airport, United Kingdom).\"}, {\"url\": \"https://www.accuweather.com/en/gb/edinburgh/eh1-3/weather-forecast/327336\", \"content\": \"Hi: 53°\\\\nTonight: Partly to mostly cloudy with on-and-off rain and drizzle late\\\\nLo: 41°\\\\nCurrent Weather\\\\n12:25 PM\\\\nMINUTECAST™\\\\nRain ending in 1 min\\\\nLooking Ahead\\\\nExpect rainy weather late Wednesday night through Friday morning\\\\nEdinburgh Weather Radar & Maps\\\\nHourly Weather\\\\n10-Day Weather Forecast\\\\nToday\\\\n3/13\\\\nA few showers this morning\\\\nNight: Rain and drizzle late\\\\nThu\\\\n3/14\\\\nRain tapering off\\\\nRain\\\\nFri\\\\n3/15\\\\nRain and drizzle in the a.m.\\\\nMainly clear\\\\nSat\\\\n3/16\\\\nCloudy, a shower in the p.m.\\\\nCloudy, rain, mainly early\\\\nSun\\\\n3/17\\\\nPartly sunny and not as cool\\\\nPartly cloudy\\\\nMon\\\\n3/18\\\\nMostly cloudy\\\\nClouds breaking\\\\nTue\\\\n3/19\\\\nA few afternoon showers\\\\nCloudy with a few showers\\\\nWed\\\\n3/20\\\\nA couple of afternoon showers\\\\nOccasional evening rain\\\\nThu\\\\n3/21\\\\nVariably cloudy with a shower\\\\nCold with increasing clouds\\\\nFri\\\\n3/22\\\\nLow clouds\\\\nMostly cloudy\\\\nSun & Moon\\\\nAir Quality\\\\nThe air quality is generally acceptable for most individuals. Allergy Outlook\\\\nTop Stories\\\\nSevere Weather\\\\nTornadoes, hail, and high winds: 60 million brace for severe weather\\\\n53 minutes ago\\\\nRecreation\\\\nSkier dies after falling nearly 600 feet down Mount Washington ravine\\\\n1 day ago\\\\nWinter Weather\\\\nBiggest snowstorm of the season may be headed for Denver\\\\n2 hours ago\\\\nWeather News\\\\nFans worry as bald eagle pair Jackie and Shadow\\'s eggs fail to hatch\\\\n15 hours ago\\\\nSolar Eclipse 2024\\\\nSolar eclipse weather forecast: AccuWeather provides 1st cloud outlook\\\\n1 day ago\\\\nFeatured Stories\\\\nWeather News\\\\nBlizzard of \\'93: Remembering the Storm of the Century\\\\n18 hours ago\\\\nWeather News\\\\nWhat experts say about the theories behind \\'chemtrails\\'\\\\n22 hours ago\\\\nTravel\\\\nPassenger on Boeing flight says pilot told him he lost control\\\\n19 hours ago\\\\nWeather News\\\\nGas prices have surged to four-month highs. Edinburgh, City of Edinburgh\\\\nEdinburgh\\\\nCity of Edinburgh\\\\nAround the Globe\\\\nAround the Globe\\\\nHurricane Tracker\\\\nSevere Weather\\\\nRadar & Maps\\\\nNews & Features\\\\nAstronomy\\\\nBusiness\\\\nClimate\\\\nHealth\\\\nRecreation\\\\nSports\\\\nTravel\\\\nVideo\\\\nToday\\\\n Don’t panic\\\\n1 day ago\\\\nWeather News\\\\nNew deep-sea species revealed, including mystery creature\\\\n20 hours ago\\\\nWeather Near Edinburgh:\\\\nWe have updated our Privacy Policy and Cookie Policy.\\\\n Today\\'s Weather\\\\nWed, Mar 13\\\\nCloudy most of the time; brief morning showers followed by a shower in spots this afternoon\\\\n\"}, {\"url\": \"https://weather.com/en-GB/weather/hourbyhour/l/Edinburgh+Scotland?canonicalCityId=a9a6eaac6e3742050bdf7b345f4ca3ab7d92bae9b77c506f15327d7bdb87a40d\", \"content\": \"Hourly Local Weather Forecast, weather conditions, precipitation, dew point, humidity, wind from Weather.com and The Weather Channel ... Hourly Weather-Edinburgh, Scotland. As of 12:10 BST.\"}, {\"url\": \"https://www.yahoo.com/news/weather/united-kingdom/scotland/edinburgh-19344/\", \"content\": \"Mostly cloudy today with a high of 47 °F (8.3 °C) and a low of 35 °F (1.7 °C). There is a 44% chance of precipitation. Mostly sunny today with a high of 45 °F (7.2 °C) and a low of 34 °F (1\"}, {\"url\": \"https://www.metoffice.gov.uk/weather/forecast/gcvwr3zrw\", \"content\": \"Updated: 15:00 (UTC) on Fri 12 Jan 2024\\\\nLatest UK daily weather videos\\\\nVideo forecasts\\\\nNearest forecasts\\\\nMore from the Met Office\\\\nCauses of climate change\\\\nCumulus clouds\\\\nCirrus clouds\\\\nWhat do satellite pictures show?\\\\n This means that the symbol for 09:00 shows you what you will see from 09:00 to 10:00.\\\\nChance of precipitation represents how likely it is that rain (or other types of precipitation, such as\\\\nsleet, snow, hail and drizzle) will fall from the sky at a certain time.\\\\n For best viewing experience of this website, please enable JavaScript.\\\\nEdinburgh (Edinburgh) weather\\\\nFind a forecast\\\\nPlease choose your location from the nearest places to :\\\\nForecast days\\\\nToday\\\\n Updated: 14:00 (UTC) on Fri 12 Jan 2024\\\\nSaturday 27 Jan -\\\\nSaturday 10 Feb\\\\nAfter a likely milder, more unsettled spell during the preceding week, towards the end of January and into early February there is again an increased likelihood of high pressure having greater influence on UK weather patterns. The warmest year on record globally\\\\nGlobally 2023 was the warmest year in a series stretching back to 1850, according to figures released today by the Met Office and the University of East Anglia.\\\\n\"}]', name='tavily_search_results_json', id='ffd37f01-ebaa-40cf-986c-457305f59dda', tool_call_id='chatcmpl-tool-bc78ce885e32428c9f4848249194279f', artifact={'query': 'current temperature in Edinburgh, Scotland', 'follow_up_questions': None, 'answer': None, 'images': [], 'results': [{'title': 'Edinburgh, Scotland, United Kingdom 14 day weather forecast', 'url': 'https://www.timeanddate.com/weather/uk/edinburgh/ext', 'content': 'Edinburgh 14 Day Extended Forecast. Time/General. Time Zone. DST Changes. Sun & Moon. Weather Today Weather Hourly 14 Day Forecast Yesterday/Past Weather Climate (Averages) Currently: 45 °F. Fog. (Weather station: Edinburgh Airport, United Kingdom).', 'score': 0.99544394, 'raw_content': None}, {'title': 'Edinburgh, City of Edinburgh, United Kingdom Weather Forecast | AccuWeather', 'url': 'https://www.accuweather.com/en/gb/edinburgh/eh1-3/weather-forecast/327336', 'content': \"Hi: 53°\\nTonight: Partly to mostly cloudy with on-and-off rain and drizzle late\\nLo: 41°\\nCurrent Weather\\n12:25 PM\\nMINUTECAST™\\nRain ending in 1 min\\nLooking Ahead\\nExpect rainy weather late Wednesday night through Friday morning\\nEdinburgh Weather Radar & Maps\\nHourly Weather\\n10-Day Weather Forecast\\nToday\\n3/13\\nA few showers this morning\\nNight: Rain and drizzle late\\nThu\\n3/14\\nRain tapering off\\nRain\\nFri\\n3/15\\nRain and drizzle in the a.m.\\nMainly clear\\nSat\\n3/16\\nCloudy, a shower in the p.m.\\nCloudy, rain, mainly early\\nSun\\n3/17\\nPartly sunny and not as cool\\nPartly cloudy\\nMon\\n3/18\\nMostly cloudy\\nClouds breaking\\nTue\\n3/19\\nA few afternoon showers\\nCloudy with a few showers\\nWed\\n3/20\\nA couple of afternoon showers\\nOccasional evening rain\\nThu\\n3/21\\nVariably cloudy with a shower\\nCold with increasing clouds\\nFri\\n3/22\\nLow clouds\\nMostly cloudy\\nSun & Moon\\nAir Quality\\nThe air quality is generally acceptable for most individuals. Allergy Outlook\\nTop Stories\\nSevere Weather\\nTornadoes, hail, and high winds: 60 million brace for severe weather\\n53 minutes ago\\nRecreation\\nSkier dies after falling nearly 600 feet down Mount Washington ravine\\n1 day ago\\nWinter Weather\\nBiggest snowstorm of the season may be headed for Denver\\n2 hours ago\\nWeather News\\nFans worry as bald eagle pair Jackie and Shadow's eggs fail to hatch\\n15 hours ago\\nSolar Eclipse 2024\\nSolar eclipse weather forecast: AccuWeather provides 1st cloud outlook\\n1 day ago\\nFeatured Stories\\nWeather News\\nBlizzard of '93: Remembering the Storm of the Century\\n18 hours ago\\nWeather News\\nWhat experts say about the theories behind 'chemtrails'\\n22 hours ago\\nTravel\\nPassenger on Boeing flight says pilot told him he lost control\\n19 hours ago\\nWeather News\\nGas prices have surged to four-month highs. Edinburgh, City of Edinburgh\\nEdinburgh\\nCity of Edinburgh\\nAround the Globe\\nAround the Globe\\nHurricane Tracker\\nSevere Weather\\nRadar & Maps\\nNews & Features\\nAstronomy\\nBusiness\\nClimate\\nHealth\\nRecreation\\nSports\\nTravel\\nVideo\\nToday\\n Don’t panic\\n1 day ago\\nWeather News\\nNew deep-sea species revealed, including mystery creature\\n20 hours ago\\nWeather Near Edinburgh:\\nWe have updated our Privacy Policy and Cookie Policy.\\n Today's Weather\\nWed, Mar 13\\nCloudy most of the time; brief morning showers followed by a shower in spots this afternoon\\n\", 'score': 0.989791, 'raw_content': None}, {'title': 'Edinburgh, Scotland Weather', 'url': 'https://weather.com/en-GB/weather/hourbyhour/l/Edinburgh+Scotland?canonicalCityId=a9a6eaac6e3742050bdf7b345f4ca3ab7d92bae9b77c506f15327d7bdb87a40d', 'content': 'Hourly Local Weather Forecast, weather conditions, precipitation, dew point, humidity, wind from Weather.com and The Weather Channel ... Hourly Weather-Edinburgh, Scotland. As of 12:10 BST.', 'score': 0.8590736, 'raw_content': None}, {'title': 'Edinburgh, United Kingdom - Weather Forecasts | Maps | News - Yahoo', 'url': 'https://www.yahoo.com/news/weather/united-kingdom/scotland/edinburgh-19344/', 'content': 'Mostly cloudy today with a high of 47 °F (8.3 °C) and a low of 35 °F (1.7 °C). There is a 44% chance of precipitation. Mostly sunny today with a high of 45 °F (7.2 °C) and a low of 34 °F (1', 'score': 0.7424217, 'raw_content': None}, {'title': 'Edinburgh (Edinburgh) weather - Met Office', 'url': 'https://www.metoffice.gov.uk/weather/forecast/gcvwr3zrw', 'content': 'Updated: 15:00 (UTC) on Fri 12 Jan 2024\\nLatest UK daily weather videos\\nVideo forecasts\\nNearest forecasts\\nMore from the Met Office\\nCauses of climate change\\nCumulus clouds\\nCirrus clouds\\nWhat do satellite pictures show?\\n This means that the symbol for 09:00 shows you what you will see from 09:00 to 10:00.\\nChance of precipitation represents how likely it is that rain (or other types of precipitation, such as\\nsleet, snow, hail and drizzle) will fall from the sky at a certain time.\\n For best viewing experience of this website, please enable JavaScript.\\nEdinburgh (Edinburgh) weather\\nFind a forecast\\nPlease choose your location from the nearest places to :\\nForecast days\\nToday\\n Updated: 14:00 (UTC) on Fri 12 Jan 2024\\nSaturday 27 Jan -\\nSaturday 10 Feb\\nAfter a likely milder, more unsettled spell during the preceding week, towards the end of January and into early February there is again an increased likelihood of high pressure having greater influence on UK weather patterns. The warmest year on record globally\\nGlobally 2023 was the warmest year in a series stretching back to 1850, according to figures released today by the Met Office and the University of East Anglia.\\n', 'score': 0.73278314, 'raw_content': None}], 'response_time': 2.37})]}}\n",
      "-----\n",
      "{'agent': {'messages': [AIMessage(content='The current temperature in Edinburgh, Scotland is 45 degrees Fahrenheit (7 degrees Celsius).', additional_kwargs={}, response_metadata={'role': 'assistant', 'content': 'The current temperature in Edinburgh, Scotland is 45 degrees Fahrenheit (7 degrees Celsius).', 'token_usage': {'prompt_tokens': 1718, 'total_tokens': 1735, 'completion_tokens': 17}, 'finish_reason': 'stop', 'model_name': 'meta/llama-3.1-405b-instruct'}, id='run-56d0bf69-e97c-49cf-872d-4ad6c7b5674a-0', usage_metadata={'input_tokens': 1718, 'output_tokens': 17, 'total_tokens': 1735}, role='assistant')]}}\n",
      "-----\n"
     ]
    }
   ],
   "source": [
    "for chunk in agent_executor.stream(\n",
    "    {\"messages\":[HumanMessage(content=\"What is the current temperature in my city?\")]}, config\n",
    "):\n",
    "    print(chunk)\n",
    "    print(\"-----\")\n"
   ]
  },
  {
   "cell_type": "code",
   "execution_count": null,
   "metadata": {},
   "outputs": [],
   "source": []
  }
 ],
 "metadata": {
  "kernelspec": {
   "display_name": "base",
   "language": "python",
   "name": "python3"
  },
  "language_info": {
   "codemirror_mode": {
    "name": "ipython",
    "version": 3
   },
   "file_extension": ".py",
   "mimetype": "text/x-python",
   "name": "python",
   "nbconvert_exporter": "python",
   "pygments_lexer": "ipython3",
   "version": "3.9.19"
  }
 },
 "nbformat": 4,
 "nbformat_minor": 2
}
