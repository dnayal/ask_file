{
 "cells": [
  {
   "cell_type": "code",
   "execution_count": 2,
   "metadata": {},
   "outputs": [],
   "source": [
    "from langchain_nvidia_ai_endpoints import ChatNVIDIA\n",
    "from langchain_core.messages import HumanMessage, AIMessage\n",
    "\n",
    "from langgraph.checkpoint.memory import MemorySaver\n",
    "\n",
    "from langchain_community.tools.tavily_search import TavilySearchResults\n",
    "from langgraph.prebuilt import create_react_agent\n",
    "\n",
    "from langsmith import utils\n",
    "\n",
    "import os"
   ]
  },
  {
   "cell_type": "code",
   "execution_count": 3,
   "metadata": {},
   "outputs": [],
   "source": [
    "os.environ[\"LANGCHAIN_TRACING_V2\"]=\"true\"\n",
    "os.environ[\"LANGCHAIN_ENDPOINT\"]=\"https://eu.api.smith.langchain.com\"\n",
    "os.environ[\"LANGCHAIN_API_KEY\"]=\"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\"\n",
    "os.environ[\"LANGCHAIN_PROJECT\"]=\"langchain-agent-test\"\n",
    "\n",
    "os.environ[\"NVIDIA_API_KEY\"] = \"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\"\n",
    "os.environ[\"TAVILY_API_KEY\"] = \"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\""
   ]
  },
  {
   "cell_type": "code",
   "execution_count": 4,
   "metadata": {},
   "outputs": [
    {
     "data": {
      "text/plain": [
       "True"
      ]
     },
     "execution_count": 4,
     "metadata": {},
     "output_type": "execute_result"
    }
   ],
   "source": [
    "utils.tracing_is_enabled()"
   ]
  },
  {
   "cell_type": "code",
   "execution_count": 5,
   "metadata": {},
   "outputs": [
    {
     "name": "stdout",
     "output_type": "stream",
     "text": [
      "[{'url': 'https://www.weatherapi.com/', 'content': \"{'location': {'name': 'Barnet', 'region': 'Barnet, Greater London', 'country': 'United Kingdom', 'lat': 51.6445, 'lon': -0.2021, 'tz_id': 'Europe/London', 'localtime_epoch': 1733097356, 'localtime': '2024-12-01 23:55'}, 'current': {'last_updated_epoch': 1733096700, 'last_updated': '2024-12-01 23:45', 'temp_c': 12.3, 'temp_f': 54.1, 'is_day': 0, 'condition': {'text': 'Light rain', 'icon': '//cdn.weatherapi.com/weather/64x64/night/296.png', 'code': 1183}, 'wind_mph': 11.4, 'wind_kph': 18.4, 'wind_degree': 221, 'wind_dir': 'SW', 'pressure_mb': 1011.0, 'pressure_in': 29.85, 'precip_mm': 0.06, 'precip_in': 0.0, 'humidity': 88, 'cloud': 50, 'feelslike_c': 10.4, 'feelslike_f': 50.8, 'windchill_c': 9.6, 'windchill_f': 49.2, 'heatindex_c': 11.6, 'heatindex_f': 52.9, 'dewpoint_c': 9.5, 'dewpoint_f': 49.1, 'vis_km': 10.0, 'vis_miles': 6.0, 'uv': 0.0, 'gust_mph': 18.0, 'gust_kph': 28.9}}\"}, {'url': 'https://www.timeanddate.com/weather/@3333121', 'content': 'Current weather in Barnet and forecast for today, tomorrow, and next 14 days. Sign in. News. News Home; ... Weather in Barnet, England, United Kingdom. Time/General; Weather . Weather Today/Tomorrow ; Hour-by-Hour Forecast ; ... Current Time: Nov 21, 2024 at 8:34:49 am: Latest Report: Nov 21, 2024 at 7:20 am: Visibility: N/A:'}, {'url': 'https://weather.metoffice.gov.uk/forecast/gcpvg7p52', 'content': 'Barnet 7 day weather forecast including weather warnings, temperature, rain, wind, visibility, humidity and UV ... Most likely maximum day time temperature 12 degrees Celsius and highest possible is 16 degrees, Most likely minimum night time temperature 7 degrees Celsius and lowest ... United Kingdom; London & South East England; Locations All'}, {'url': 'https://www.wunderground.com/weather/gb/london-borough-of-barnet', 'content': \"London Borough of Barnet, United Kingdom Weather Conditions | Weather Underground Sensor Network Maps & Radar Severe Weather News & Blogs Mobile Apps London Borough of Barnet, England, United Kingdom Weather Conditions_star_rate__home_ 33\\xa0°F Chipping Barnet Station|Report Report Station You are about to report this weather station for bad data. Personal Weather Station Nearby Weather Stations Tomorrow's temperature is forecast to be NEARLY THE SAME as today. Nearby Weather Stations The horizon should be clearly defined and the brightest stars should be visible under good atmospheric conditions (i.e. no moonlight, or other lights). The sun does not contribute to the illumination of the sky before this time in the morning, or after this time in the evening.\"}, {'url': 'https://www.accuweather.com/en/gb/barnet/en5-2/weather-today/323572', 'content': \"Everything you need to know about today's weather in Barnet, Barnet, United Kingdom. High/Low, Precipitation Chances, Sunrise/Sunset, and today's Temperature History.\"}]\n"
     ]
    }
   ],
   "source": [
    "# using Tavily Search for online search to be used as an agent\n",
    "search = TavilySearchResults(max_results=5)\n",
    "\n",
    "search_results = search.invoke(\"What is the current weather in Barnet, London, United Kingdom\")\n",
    "print(search_results)\n",
    "\n",
    "tools = [search]"
   ]
  },
  {
   "cell_type": "code",
   "execution_count": 6,
   "metadata": {},
   "outputs": [],
   "source": [
    "# initialise NVIDIA model for chat\n",
    "model = ChatNVIDIA(model=\"meta/llama-3.1-405b-instruct\")\n"
   ]
  },
  {
   "cell_type": "code",
   "execution_count": 7,
   "metadata": {},
   "outputs": [
    {
     "data": {
      "text/plain": [
       "'Nice to meet you, Deepak! How are you doing today? Is there something I can help you with or would you like to just chat?'"
      ]
     },
     "execution_count": 7,
     "metadata": {},
     "output_type": "execute_result"
    }
   ],
   "source": [
    "response = model.invoke([HumanMessage(content = \"Hi, my name is Deepak!\")])\n",
    "response.content"
   ]
  },
  {
   "cell_type": "code",
   "execution_count": 8,
   "metadata": {},
   "outputs": [],
   "source": [
    "# explicitly bind the tools to the model\n",
    "model_with_tools = model.bind_tools(tools)"
   ]
  },
  {
   "cell_type": "code",
   "execution_count": 9,
   "metadata": {},
   "outputs": [
    {
     "name": "stdout",
     "output_type": "stream",
     "text": [
      "ContentString: London is a fantastic city with a rich history and diverse culture. What can I help you with today?\n",
      "ToolCalls: []\n"
     ]
    }
   ],
   "source": [
    "# tool does not get called with this query\n",
    "response = model_with_tools.invoke([HumanMessage(content=\"I live in London, UK\")])\n",
    "\n",
    "print(f\"ContentString: {response.content}\")\n",
    "print(f\"ToolCalls: {response.tool_calls}\")"
   ]
  },
  {
   "cell_type": "code",
   "execution_count": 10,
   "metadata": {},
   "outputs": [
    {
     "name": "stdout",
     "output_type": "stream",
     "text": [
      "ContentString: \n",
      "ToolCalls: [{'name': 'tavily_search_results_json', 'args': {'query': 'Delhi India current time'}, 'id': 'chatcmpl-tool-93f9906c357a449c9bd62ea591010507', 'type': 'tool_call'}]\n"
     ]
    }
   ],
   "source": [
    "# tool gets called with this query\n",
    "response = model_with_tools.invoke([HumanMessage(content = \"What is the time in Delhi, India right now?\")])\n",
    "\n",
    "print(f\"ContentString: {response.content}\")\n",
    "print(f\"ToolCalls: {response.tool_calls}\")"
   ]
  },
  {
   "cell_type": "code",
   "execution_count": 11,
   "metadata": {},
   "outputs": [],
   "source": [
    "# we are using Langraph to bind the tool with the model\n",
    "# bind_tools get called internally\n",
    "agent_executor = create_react_agent(model, tools)"
   ]
  },
  {
   "cell_type": "code",
   "execution_count": 12,
   "metadata": {},
   "outputs": [
    {
     "data": {
      "text/plain": [
       "[HumanMessage(content='Hi, my name is Deepak!', additional_kwargs={}, response_metadata={}, id='6dd6c960-8aff-4145-be28-505d1122c5f8'),\n",
       " AIMessage(content='Nice to meet you, Deepak! Is there something I can help you with or would you like to chat?', additional_kwargs={}, response_metadata={'role': 'assistant', 'content': 'Nice to meet you, Deepak! Is there something I can help you with or would you like to chat?', 'token_usage': {'prompt_tokens': 316, 'total_tokens': 339, 'completion_tokens': 23}, 'finish_reason': 'stop', 'model_name': 'meta/llama-3.1-405b-instruct'}, id='run-b400723f-c92e-4e53-a41d-b5d4d17dca7b-0', usage_metadata={'input_tokens': 316, 'output_tokens': 23, 'total_tokens': 339}, role='assistant')]"
      ]
     },
     "execution_count": 12,
     "metadata": {},
     "output_type": "execute_result"
    }
   ],
   "source": [
    "# Search agent does not get invoked\n",
    "response = agent_executor.invoke({\"messages\": [HumanMessage(content = \"Hi, my name is Deepak!\")]})\n",
    "\n",
    "response[\"messages\"]"
   ]
  },
  {
   "cell_type": "code",
   "execution_count": 13,
   "metadata": {},
   "outputs": [
    {
     "data": {
      "text/plain": [
       "[HumanMessage(content='Which is the highest grossing movie of all time in the world?', additional_kwargs={}, response_metadata={}, id='3464a3a4-6606-446a-b73d-bbc89d8356d6'),\n",
       " AIMessage(content='', additional_kwargs={'tool_calls': [{'id': 'chatcmpl-tool-1910e1673bd84ef69ba51cf2945fb7c1', 'type': 'function', 'function': {'name': 'tavily_search_results_json', 'arguments': '{\"query\": \"highest grossing movie of all time\"}'}}]}, response_metadata={'role': 'assistant', 'content': None, 'tool_calls': [{'id': 'chatcmpl-tool-1910e1673bd84ef69ba51cf2945fb7c1', 'type': 'function', 'function': {'name': 'tavily_search_results_json', 'arguments': '{\"query\": \"highest grossing movie of all time\"}'}}], 'token_usage': {'prompt_tokens': 322, 'total_tokens': 354, 'completion_tokens': 32}, 'finish_reason': 'tool_calls', 'model_name': 'meta/llama-3.1-405b-instruct'}, id='run-3b7dc999-260c-4f43-abd5-b59386c314ef-0', tool_calls=[{'name': 'tavily_search_results_json', 'args': {'query': 'highest grossing movie of all time'}, 'id': 'chatcmpl-tool-1910e1673bd84ef69ba51cf2945fb7c1', 'type': 'tool_call'}], usage_metadata={'input_tokens': 322, 'output_tokens': 32, 'total_tokens': 354}, role='assistant'),\n",
       " ToolMessage(content='[{\"url\": \"https://www.guinnessworldrecords.com/world-records/highest-box-office-film-gross\", \"content\": \"Avatar (USA/UK, 2009) is the highest-grossing film at the global box office with $2,923,706,026 as of 14 March 2023. It surpassed Avengers: Endgame (USA, 2019) after its re-release in China following the COVID-19 pandemic.\"}, {\"url\": \"https://variety.com/lists/highest-grossing-movies-of-all-time/\", \"content\": \"Here are the 30 highest-grossing movies of all time worldwide, including \\'Avatar,\\' \\'Avengers: Endgame\\' and \\'Barbie.\\' ... determining the top films of all time at the time they were released is an\"}, {\"url\": \"https://www.imdb.com/list/ls098063263/\", \"content\": \"Top Lifetime Grosses - Worldwide | Source: Box Office Mojo. Data as of October 13, 2024. Only the top 1000 highest-grossing feature films of all time are displayed. The list is in the same order as displayed on the Box Office Mojo website.\"}, {\"url\": \"https://en.wikipedia.org/wiki/List_of_highest-grossing_films\", \"content\": \"One notable example of this phenomenon is Avatar, which was also released in 3D and IMAX: almost two-thirds of tickets for that film were for 3D showings with an average price of $10, and about one-sixth were for IMAX showings with an average price over $14.50, compared to a 2010 average price of $7.61 for 2D films.[25] Social and economic factors such as population change[26] and the growth of international markets[27][28][29] also have an effect on the number of people purchasing theater tickets, along with audience demographics where some films sell a much higher proportion of discounted children\\'s tickets, or perform better in big cities where tickets cost more.[23]\\\\nThe measuring system for gauging a film\\'s success is based on unadjusted grosses, mainly because historically this is the way it has always been done because of the practices of the film industry: the box-office receipts are compiled by theaters and relayed to the distributor, which in turn releases them to the media.[30] Converting to a more representative system that counts ticket sales rather than gross is also fraught with problems because the only data available for older films are the sale totals.[26] As the motion picture industry is highly oriented towards marketing currently released films, unadjusted figures are always used in marketing campaigns so that new blockbuster films can much more easily achieve a high sales ranking, and thus be promoted as a \\\\\"top film of all time\\\\\",[24][31] In keeping with this new approach, the North American rental for Gone with the Wind was revised to $21\\xa0million in 1947 ($11\\xa0million lower than the previous figure),[58] and as of 1953—following the 1947 re-release—Variety was reporting earnings of $26\\xa0million.[59] Through 1956, MGM reported cumulative North American earnings of $30,015,000 and foreign earnings of $18,964,000, from three releases.[60] Worldwide rentals of $32\\xa0million from the initial release is consistent with the revised figures and later reported worldwide figures: they indicate that the film earned $21\\xa0million in North America and $11\\xa0million overseas from the initial release, and added a further $9\\xa0million in North America and $8\\xa0million overseas from subsequent re-releases up to 1956.\\\\n Its international release was delayed by World War I, and it was not released in many foreign territories until the 1920s; coupled with further re-releases in the United States, its $10\\xa0million earnings as reported by Variety in 1932 are consistent with the earlier figure.[66] At this time, Variety still had The Birth of a Nation ahead of The Big Parade ($6,400,000) on distributor rentals and—if its estimate is correct—Snow White and the Seven Dwarfs ($8,500,000)[67] would not have earned enough on its first theatrical run to take the record;[68] although it would have been the highest-grossing \\'talkie\\',[69] displacing The Singing Fool ($5,900,000).[70] It was hugely popular with the Ku Klux Klan who used it to drive recruitment,[74] and at one point Variety estimated its total earnings to stand at around $50\\xa0million.[75] Despite later retracting the claim, the sum has been widely reported even though it has never been substantiated.[65] While it is generally accepted that Gone with the Wind took over the record of highest-grossing film on its initial release—which is true in terms of public exhibition—it is likely it did not overtake The Birth of a Nation in total revenue until a much later date, with it still being reported as the highest earner up until the 1960s.[73] The original release and 2010 Special Edition grosses are adjusted from the Guinness base year, whilst the 2020 and 2021 grosses are adjusted from the 2021 index and the 2022 gross from 2022.[37]\\\\nTGuinness\\' adjusted total for Titanic only increased by $102,000,000 between the 2012 (published in 2011) and 2015 editions, a rise of 4.2% shared by the other adjusted totals in the chart, and omitted the gross from a 3D re-release in 2012.[35][38]\"}, {\"url\": \"https://editorial.rottentomatoes.com/article/highest-grossing-movies-all-time/\", \"content\": \"The 14th film to gross over $600 million at the domestic box office, resulting in the 11th-highest gross ever at the time, Barbie is expected to have a powerful presence in the 2023 awards race. With over $574 million, it became the second-highest grossing animated film ever released domestically and internationally. Peter Jackson’s (first) epic trilogy unfolded over three straight holiday seasons, and its finale was rewarded in every fashion: Return of the King\\xa0historically won all 11 Oscars that it was nominated for, including Best Picture and Best Director;\\xa0it was one of the best-reviewed films of the year (Certified Fresh at 93%);\\xa0and\\xa0it\\xa0became the fourth-highest domestic grosser of all time behind just\\xa0Titanic,\\xa0The Phantom Menace,\\xa0and Sam Raimi’s first\\xa0Spider-Man\\xa0film.\"}]', name='tavily_search_results_json', id='4a9dafc1-3838-4798-be38-20486d637783', tool_call_id='chatcmpl-tool-1910e1673bd84ef69ba51cf2945fb7c1', artifact={'query': 'highest grossing movie of all time', 'follow_up_questions': None, 'answer': None, 'images': [], 'results': [{'title': 'Highest-grossing film at the global box office', 'url': 'https://www.guinnessworldrecords.com/world-records/highest-box-office-film-gross', 'content': 'Avatar (USA/UK, 2009) is the highest-grossing film at the global box office with $2,923,706,026 as of 14 March 2023. It surpassed Avengers: Endgame (USA, 2019) after its re-release in China following the COVID-19 pandemic.', 'score': 0.99040353, 'raw_content': None}, {'title': 'The 30 Highest-Grossing Movies of All Time - Variety', 'url': 'https://variety.com/lists/highest-grossing-movies-of-all-time/', 'content': \"Here are the 30 highest-grossing movies of all time worldwide, including 'Avatar,' 'Avengers: Endgame' and 'Barbie.' ... determining the top films of all time at the time they were released is an\", 'score': 0.98302, 'raw_content': None}, {'title': 'Top 1000 Highest-Grossing Movies of All Time - IMDb', 'url': 'https://www.imdb.com/list/ls098063263/', 'content': 'Top Lifetime Grosses - Worldwide | Source: Box Office Mojo. Data as of October 13, 2024. Only the top 1000 highest-grossing feature films of all time are displayed. The list is in the same order as displayed on the Box Office Mojo website.', 'score': 0.9722044, 'raw_content': None}, {'title': 'List of highest-grossing films - Wikipedia', 'url': 'https://en.wikipedia.org/wiki/List_of_highest-grossing_films', 'content': 'One notable example of this phenomenon is Avatar, which was also released in 3D and IMAX: almost two-thirds of tickets for that film were for 3D showings with an average price of $10, and about one-sixth were for IMAX showings with an average price over $14.50, compared to a 2010 average price of $7.61 for 2D films.[25] Social and economic factors such as population change[26] and the growth of international markets[27][28][29] also have an effect on the number of people purchasing theater tickets, along with audience demographics where some films sell a much higher proportion of discounted children\\'s tickets, or perform better in big cities where tickets cost more.[23]\\nThe measuring system for gauging a film\\'s success is based on unadjusted grosses, mainly because historically this is the way it has always been done because of the practices of the film industry: the box-office receipts are compiled by theaters and relayed to the distributor, which in turn releases them to the media.[30] Converting to a more representative system that counts ticket sales rather than gross is also fraught with problems because the only data available for older films are the sale totals.[26] As the motion picture industry is highly oriented towards marketing currently released films, unadjusted figures are always used in marketing campaigns so that new blockbuster films can much more easily achieve a high sales ranking, and thus be promoted as a \"top film of all time\",[24][31] In keeping with this new approach, the North American rental for Gone with the Wind was revised to $21\\xa0million in 1947 ($11\\xa0million lower than the previous figure),[58] and as of 1953—following the 1947 re-release—Variety was reporting earnings of $26\\xa0million.[59] Through 1956, MGM reported cumulative North American earnings of $30,015,000 and foreign earnings of $18,964,000, from three releases.[60] Worldwide rentals of $32\\xa0million from the initial release is consistent with the revised figures and later reported worldwide figures: they indicate that the film earned $21\\xa0million in North America and $11\\xa0million overseas from the initial release, and added a further $9\\xa0million in North America and $8\\xa0million overseas from subsequent re-releases up to 1956.\\n Its international release was delayed by World War I, and it was not released in many foreign territories until the 1920s; coupled with further re-releases in the United States, its $10\\xa0million earnings as reported by Variety in 1932 are consistent with the earlier figure.[66] At this time, Variety still had The Birth of a Nation ahead of The Big Parade ($6,400,000) on distributor rentals and—if its estimate is correct—Snow White and the Seven Dwarfs ($8,500,000)[67] would not have earned enough on its first theatrical run to take the record;[68] although it would have been the highest-grossing \\'talkie\\',[69] displacing The Singing Fool ($5,900,000).[70] It was hugely popular with the Ku Klux Klan who used it to drive recruitment,[74] and at one point Variety estimated its total earnings to stand at around $50\\xa0million.[75] Despite later retracting the claim, the sum has been widely reported even though it has never been substantiated.[65] While it is generally accepted that Gone with the Wind took over the record of highest-grossing film on its initial release—which is true in terms of public exhibition—it is likely it did not overtake The Birth of a Nation in total revenue until a much later date, with it still being reported as the highest earner up until the 1960s.[73] The original release and 2010 Special Edition grosses are adjusted from the Guinness base year, whilst the 2020 and 2021 grosses are adjusted from the 2021 index and the 2022 gross from 2022.[37]\\nTGuinness\\' adjusted total for Titanic only increased by $102,000,000 between the 2012 (published in 2011) and 2015 editions, a rise of 4.2% shared by the other adjusted totals in the chart, and omitted the gross from a 3D re-release in 2012.[35][38]', 'score': 0.93991333, 'raw_content': None}, {'title': 'The 50 Highest-Grossing Movies of All Time: Your Top Box Office Earners ...', 'url': 'https://editorial.rottentomatoes.com/article/highest-grossing-movies-all-time/', 'content': 'The 14th film to gross over $600 million at the domestic box office, resulting in the 11th-highest gross ever at the time, Barbie is expected to have a powerful presence in the 2023 awards race. With over $574 million, it became the second-highest grossing animated film ever released domestically and internationally. Peter Jackson’s (first) epic trilogy unfolded over three straight holiday seasons, and its finale was rewarded in every fashion: Return of the King\\xa0historically won all 11 Oscars that it was nominated for, including Best Picture and Best Director;\\xa0it was one of the best-reviewed films of the year (Certified Fresh at 93%);\\xa0and\\xa0it\\xa0became the fourth-highest domestic grosser of all time behind just\\xa0Titanic,\\xa0The Phantom Menace,\\xa0and Sam Raimi’s first\\xa0Spider-Man\\xa0film.', 'score': 0.9263037, 'raw_content': None}], 'response_time': 1.84}),\n",
       " AIMessage(content='The highest grossing movie of all time in the world is Avatar (USA/UK, 2009) with $2,923,706,026 as of 14 March 2023.', additional_kwargs={}, response_metadata={'role': 'assistant', 'content': 'The highest grossing movie of all time in the world is Avatar (USA/UK, 2009) with $2,923,706,026 as of 14 March 2023.', 'token_usage': {'prompt_tokens': 1845, 'total_tokens': 1885, 'completion_tokens': 40}, 'finish_reason': 'stop', 'model_name': 'meta/llama-3.1-405b-instruct'}, id='run-038e6cf3-2760-43df-9899-bb3651744862-0', usage_metadata={'input_tokens': 1845, 'output_tokens': 40, 'total_tokens': 1885}, role='assistant')]"
      ]
     },
     "execution_count": 13,
     "metadata": {},
     "output_type": "execute_result"
    }
   ],
   "source": [
    "# Search agent gets invoked\n",
    "response = agent_executor.invoke({\"messages\":[HumanMessage(content=\"Which is the highest grossing movie of all time in the world?\")]})\n",
    "\n",
    "response[\"messages\"]"
   ]
  },
  {
   "cell_type": "code",
   "execution_count": 14,
   "metadata": {},
   "outputs": [
    {
     "name": "stdout",
     "output_type": "stream",
     "text": [
      "{'agent': {'messages': [AIMessage(content='', additional_kwargs={'tool_calls': [{'id': 'chatcmpl-tool-1d57bca0a8a64d4abda68305fec1aa35', 'type': 'function', 'function': {'name': 'tavily_search_results_json', 'arguments': '{\"query\": \"Svalbard temperature\"}'}}]}, response_metadata={'role': 'assistant', 'content': None, 'tool_calls': [{'id': 'chatcmpl-tool-1d57bca0a8a64d4abda68305fec1aa35', 'type': 'function', 'function': {'name': 'tavily_search_results_json', 'arguments': '{\"query\": \"Svalbard temperature\"}'}}], 'token_usage': {'prompt_tokens': 317, 'total_tokens': 350, 'completion_tokens': 33}, 'finish_reason': 'tool_calls', 'model_name': 'meta/llama-3.1-405b-instruct'}, id='run-f10057b4-388f-45b9-a055-0cffaa68ecdb-0', tool_calls=[{'name': 'tavily_search_results_json', 'args': {'query': 'Svalbard temperature'}, 'id': 'chatcmpl-tool-1d57bca0a8a64d4abda68305fec1aa35', 'type': 'tool_call'}], usage_metadata={'input_tokens': 317, 'output_tokens': 33, 'total_tokens': 350}, role='assistant')]}}\n",
      "----\n",
      "{'tools': {'messages': [ToolMessage(content='[{\"url\": \"https://www.climatestotravel.com/climate/norway/svalbard\", \"content\": \"The following climate data refer to the Svalbard Airport, Longyear. Svalbard - Climate data The average temperature of the coldest month (March) is of -12.2 °C (10.1 °F), that of the warmest month (July) is of 7.4 °C (45.3 °F). Here are the average temperatures.\"}, {\"url\": \"https://www.timeanddate.com/weather/norway/longyearbyen/ext\", \"content\": \"Find out the weather conditions and temperature for Longyearbyen, Svalbard, Norway for the next two weeks. See the high and low temperatures, precipitation, wind, humidity, and UV index for each day.\"}, {\"url\": \"https://www.timeanddate.com/weather/norway/longyearbyen\", \"content\": \"Current weather in Longyearbyen and forecast for today, tomorrow, and next 14 days\"}, {\"url\": \"https://www.accuweather.com/en/sj/longyearbyen/310461/weather-forecast/310461\", \"content\": \"Get the current and future weather conditions for Longyearbyen, Svalbard, including temperature, snow, wind, and air quality. See the hourly and 10-day forecast for this Arctic town.\"}, {\"url\": \"https://en.wikipedia.org/wiki/Climate_of_Svalbard\", \"content\": \"Learn about the climate of Svalbard, a Norwegian archipelago in the Arctic Ocean, and how it is influenced by ocean currents, glaciers and human activities. Find historical data, temperature averages and weather forecasts for different settlements on Svalbard.\"}]', name='tavily_search_results_json', id='2fe99731-ae89-4c3f-9bc5-0c60aa723b9d', tool_call_id='chatcmpl-tool-1d57bca0a8a64d4abda68305fec1aa35', artifact={'query': 'Svalbard temperature', 'follow_up_questions': None, 'answer': None, 'images': [], 'results': [{'title': 'Svalbard climate: weather by month, temperature, rain - Climates to Travel', 'url': 'https://www.climatestotravel.com/climate/norway/svalbard', 'content': 'The following climate data refer to the Svalbard Airport, Longyear. Svalbard - Climate data The average temperature of the coldest month (March) is of -12.2 °C (10.1 °F), that of the warmest month (July) is of 7.4 °C (45.3 °F). Here are the average temperatures.', 'score': 0.9992931, 'raw_content': None}, {'title': 'Longyearbyen, Svalbard, Norway 14 day weather forecast - timeanddate.com', 'url': 'https://www.timeanddate.com/weather/norway/longyearbyen/ext', 'content': 'Find out the weather conditions and temperature for Longyearbyen, Svalbard, Norway for the next two weeks. See the high and low temperatures, precipitation, wind, humidity, and UV index for each day.', 'score': 0.77407146, 'raw_content': None}, {'title': 'Weather in Longyearbyen, Svalbard, Norway - timeanddate.com', 'url': 'https://www.timeanddate.com/weather/norway/longyearbyen', 'content': 'Current weather in Longyearbyen and forecast for today, tomorrow, and next 14 days', 'score': 0.67308426, 'raw_content': None}, {'title': 'Longyearbyen, Svalbard, Svalbard And Jan Mayen Weather Forecast ...', 'url': 'https://www.accuweather.com/en/sj/longyearbyen/310461/weather-forecast/310461', 'content': 'Get the current and future weather conditions for Longyearbyen, Svalbard, including temperature, snow, wind, and air quality. See the hourly and 10-day forecast for this Arctic town.', 'score': 0.6620321, 'raw_content': None}, {'title': 'Climate of Svalbard - Wikipedia', 'url': 'https://en.wikipedia.org/wiki/Climate_of_Svalbard', 'content': 'Learn about the climate of Svalbard, a Norwegian archipelago in the Arctic Ocean, and how it is influenced by ocean currents, glaciers and human activities. Find historical data, temperature averages and weather forecasts for different settlements on Svalbard.', 'score': 0.5897164, 'raw_content': None}], 'response_time': 2.95})]}}\n",
      "----\n",
      "{'agent': {'messages': [AIMessage(content='The current temperature in Svalbard is not specified in the search results provided. However, the average temperature of the coldest month (March) is -12.2 degrees Celsius, and the average temperature of the warmest month (July) is 7.4 degrees Celsius.', additional_kwargs={}, response_metadata={'role': 'assistant', 'content': 'The current temperature in Svalbard is not specified in the search results provided. However, the average temperature of the coldest month (March) is -12.2 degrees Celsius, and the average temperature of the warmest month (July) is 7.4 degrees Celsius.', 'token_usage': {'prompt_tokens': 742, 'total_tokens': 799, 'completion_tokens': 57}, 'finish_reason': 'stop', 'model_name': 'meta/llama-3.1-405b-instruct'}, id='run-cb96a7ba-b108-42e7-90bc-cc50b433a4b0-0', usage_metadata={'input_tokens': 742, 'output_tokens': 57, 'total_tokens': 799}, role='assistant')]}}\n",
      "----\n"
     ]
    }
   ],
   "source": [
    "# streaming messages\n",
    "for chunk in agent_executor.stream(\n",
    "    {\"messages\":[HumanMessage(content=\"What is the temperature in Svalbard?\")]}\n",
    "):\n",
    "    print(chunk)\n",
    "    print(\"----\")\n",
    "\n"
   ]
  },
  {
   "cell_type": "code",
   "execution_count": 15,
   "metadata": {},
   "outputs": [
    {
     "name": "stdout",
     "output_type": "stream",
     "text": [
      "{'agent': {'messages': [AIMessage(content=\"Hello Myra! It's lovely to meet you. Edinburgh is such a beautiful city, steeped in history and culture. What do you like most about living there?\", additional_kwargs={}, response_metadata={'role': 'assistant', 'content': \"Hello Myra! It's lovely to meet you. Edinburgh is such a beautiful city, steeped in history and culture. What do you like most about living there?\", 'token_usage': {'prompt_tokens': 321, 'total_tokens': 355, 'completion_tokens': 34}, 'finish_reason': 'stop', 'model_name': 'meta/llama-3.1-405b-instruct'}, id='run-767e3bc7-3413-4def-8505-d4c86c8f2c97-0', usage_metadata={'input_tokens': 321, 'output_tokens': 34, 'total_tokens': 355}, role='assistant')]}}\n",
      "-----\n"
     ]
    }
   ],
   "source": [
    "# adding memory to the agent conversation\n",
    "memory = MemorySaver()\n",
    "\n",
    "agent_executor = create_react_agent(model, tools, checkpointer=memory)\n",
    "\n",
    "config = {\"configurable\": {\"thread_id\":\"abc123\"}}\n",
    "\n",
    "for chunk in agent_executor.stream(\n",
    "    {\"messages\":[HumanMessage(content=\"Hi! this is Myra. I live in Edinburgh, Scotland\")]}, config\n",
    "):\n",
    "    print(chunk)\n",
    "    print(\"-----\")"
   ]
  },
  {
   "cell_type": "code",
   "execution_count": 16,
   "metadata": {},
   "outputs": [
    {
     "name": "stdout",
     "output_type": "stream",
     "text": [
      "{'agent': {'messages': [AIMessage(content='', additional_kwargs={'tool_calls': [{'id': 'chatcmpl-tool-11fa2de176854760beb246e03c3f05af', 'type': 'function', 'function': {'name': 'tavily_search_results_json', 'arguments': '{\"query\": \"current temperature in Edinburgh, Scotland\"}'}}]}, response_metadata={'role': 'assistant', 'content': None, 'tool_calls': [{'id': 'chatcmpl-tool-11fa2de176854760beb246e03c3f05af', 'type': 'function', 'function': {'name': 'tavily_search_results_json', 'arguments': '{\"query\": \"current temperature in Edinburgh, Scotland\"}'}}], 'token_usage': {'prompt_tokens': 374, 'total_tokens': 394, 'completion_tokens': 20}, 'finish_reason': 'tool_calls', 'model_name': 'meta/llama-3.1-405b-instruct'}, id='run-9d16145a-6311-49df-b9f8-51a3e10586fa-0', tool_calls=[{'name': 'tavily_search_results_json', 'args': {'query': 'current temperature in Edinburgh, Scotland'}, 'id': 'chatcmpl-tool-11fa2de176854760beb246e03c3f05af', 'type': 'tool_call'}], usage_metadata={'input_tokens': 374, 'output_tokens': 20, 'total_tokens': 394}, role='assistant')]}}\n",
      "-----\n",
      "{'tools': {'messages': [ToolMessage(content='[{\"url\": \"https://www.timeanddate.com/weather/uk/edinburgh\", \"content\": \"Home \\xa0 Weather \\xa0 United Kingdom \\xa0 Edinburgh Weather in Edinburgh, Scotland, United Kingdom Weather 28\\xa0°F Forecast: 38 / 25\\xa0°F Wind: 1 mph ↑ from North Current Time:   Nov 19, 2024 at 12:06:09 am See more hour-by-hour weather Forecast for the next 48 hours Forecast                           * Updated Monday, November 18, 2024 7:02:54 pm Edinburgh time - Weather by CustomWeather, © 2024 36 / 23\\xa0°F Wind: 3 mph ↑ from West More weather last week 27\\xa0°F 25\\xa0°F 28\\xa0°F 38 / 25\\xa0°F 37 / 26\\xa0°F 40 / 26\\xa0°F 40 / 27\\xa0°F 40 / 31\\xa0°F 46 / 38\\xa0°F 46 / 36\\xa0°F Sun & Moon times precise to the second. Privacy Policy Weather\"}, {\"url\": \"https://www.accuweather.com/en/gb/edinburgh/eh1-3/weather-forecast/327336\", \"content\": \"Hi: 53°\\\\nTonight: Partly to mostly cloudy with on-and-off rain and drizzle late\\\\nLo: 41°\\\\nCurrent Weather\\\\n12:25 PM\\\\nMINUTECAST™\\\\nRain ending in 1 min\\\\nLooking Ahead\\\\nExpect rainy weather late Wednesday night through Friday morning\\\\nEdinburgh Weather Radar & Maps\\\\nHourly Weather\\\\n10-Day Weather Forecast\\\\nToday\\\\n3/13\\\\nA few showers this morning\\\\nNight: Rain and drizzle late\\\\nThu\\\\n3/14\\\\nRain tapering off\\\\nRain\\\\nFri\\\\n3/15\\\\nRain and drizzle in the a.m.\\\\nMainly clear\\\\nSat\\\\n3/16\\\\nCloudy, a shower in the p.m.\\\\nCloudy, rain, mainly early\\\\nSun\\\\n3/17\\\\nPartly sunny and not as cool\\\\nPartly cloudy\\\\nMon\\\\n3/18\\\\nMostly cloudy\\\\nClouds breaking\\\\nTue\\\\n3/19\\\\nA few afternoon showers\\\\nCloudy with a few showers\\\\nWed\\\\n3/20\\\\nA couple of afternoon showers\\\\nOccasional evening rain\\\\nThu\\\\n3/21\\\\nVariably cloudy with a shower\\\\nCold with increasing clouds\\\\nFri\\\\n3/22\\\\nLow clouds\\\\nMostly cloudy\\\\nSun & Moon\\\\nAir Quality\\\\nThe air quality is generally acceptable for most individuals. Allergy Outlook\\\\nTop Stories\\\\nSevere Weather\\\\nTornadoes, hail, and high winds: 60 million brace for severe weather\\\\n53 minutes ago\\\\nRecreation\\\\nSkier dies after falling nearly 600 feet down Mount Washington ravine\\\\n1 day ago\\\\nWinter Weather\\\\nBiggest snowstorm of the season may be headed for Denver\\\\n2 hours ago\\\\nWeather News\\\\nFans worry as bald eagle pair Jackie and Shadow\\'s eggs fail to hatch\\\\n15 hours ago\\\\nSolar Eclipse 2024\\\\nSolar eclipse weather forecast: AccuWeather provides 1st cloud outlook\\\\n1 day ago\\\\nFeatured Stories\\\\nWeather News\\\\nBlizzard of \\'93: Remembering the Storm of the Century\\\\n18 hours ago\\\\nWeather News\\\\nWhat experts say about the theories behind \\'chemtrails\\'\\\\n22 hours ago\\\\nTravel\\\\nPassenger on Boeing flight says pilot told him he lost control\\\\n19 hours ago\\\\nWeather News\\\\nGas prices have surged to four-month highs. Edinburgh, City of Edinburgh\\\\nEdinburgh\\\\nCity of Edinburgh\\\\nAround the Globe\\\\nAround the Globe\\\\nHurricane Tracker\\\\nSevere Weather\\\\nRadar & Maps\\\\nNews & Features\\\\nAstronomy\\\\nBusiness\\\\nClimate\\\\nHealth\\\\nRecreation\\\\nSports\\\\nTravel\\\\nVideo\\\\nToday\\\\n Don’t panic\\\\n1 day ago\\\\nWeather News\\\\nNew deep-sea species revealed, including mystery creature\\\\n20 hours ago\\\\nWeather Near Edinburgh:\\\\nWe have updated our Privacy Policy and Cookie Policy.\\\\n Today\\'s Weather\\\\nWed, Mar 13\\\\nCloudy most of the time; brief morning showers followed by a shower in spots this afternoon\\\\n\"}, {\"url\": \"https://weather.com/en-GB/weather/hourbyhour/l/Edinburgh+Scotland?canonicalCityId=0423cdfc366acc3a82c01ff6c27135aabc96bfd7b46a3659f427e73e64c9d64b\", \"content\": \"Hourly Local Weather Forecast, weather conditions, precipitation, dew point, humidity, wind from Weather.com and The Weather Channel ... Hourly Weather-Edinburgh, Scotland. As of 2:37 GMT.\"}, {\"url\": \"https://www.metoffice.gov.uk/weather/forecast/gcvwr3zrw\", \"content\": \"Updated: 15:00 (UTC) on Fri 12 Jan 2024\\\\nLatest UK daily weather videos\\\\nVideo forecasts\\\\nNearest forecasts\\\\nMore from the Met Office\\\\nCauses of climate change\\\\nCumulus clouds\\\\nCirrus clouds\\\\nWhat do satellite pictures show?\\\\n This means that the symbol for 09:00 shows you what you will see from 09:00 to 10:00.\\\\nChance of precipitation represents how likely it is that rain (or other types of precipitation, such as\\\\nsleet, snow, hail and drizzle) will fall from the sky at a certain time.\\\\n For best viewing experience of this website, please enable JavaScript.\\\\nEdinburgh (Edinburgh) weather\\\\nFind a forecast\\\\nPlease choose your location from the nearest places to :\\\\nForecast days\\\\nToday\\\\n Updated: 14:00 (UTC) on Fri 12 Jan 2024\\\\nSaturday 27 Jan -\\\\nSaturday 10 Feb\\\\nAfter a likely milder, more unsettled spell during the preceding week, towards the end of January and into early February there is again an increased likelihood of high pressure having greater influence on UK weather patterns. The warmest year on record globally\\\\nGlobally 2023 was the warmest year in a series stretching back to 1850, according to figures released today by the Met Office and the University of East Anglia.\\\\n\"}, {\"url\": \"https://weather.com/en-GB/weather/today/l/Edinburgh+Scotland?canonicalCityId=0423cdfc366acc3a82c01ff6c27135aabc96bfd7b46a3659f427e73e64c9d64b\", \"content\": \"Today\\'s and tonight\\'s Edinburgh, Scotland weather forecast, weather conditions and Doppler radar from The Weather Channel and Weather.com\"}]', name='tavily_search_results_json', id='94ab1d46-d522-40ba-881e-f0860e5550fe', tool_call_id='chatcmpl-tool-11fa2de176854760beb246e03c3f05af', artifact={'query': 'current temperature in Edinburgh, Scotland', 'follow_up_questions': None, 'answer': None, 'images': [], 'results': [{'title': 'Weather in Edinburgh, Scotland, United Kingdom - timeanddate.com', 'url': 'https://www.timeanddate.com/weather/uk/edinburgh', 'content': 'Home \\xa0 Weather \\xa0 United Kingdom \\xa0 Edinburgh Weather in Edinburgh, Scotland, United Kingdom Weather 28\\xa0°F Forecast: 38 / 25\\xa0°F Wind: 1 mph ↑ from North Current Time:   Nov 19, 2024 at 12:06:09 am See more hour-by-hour weather Forecast for the next 48 hours Forecast                           * Updated Monday, November 18, 2024 7:02:54 pm Edinburgh time - Weather by CustomWeather, © 2024 36 / 23\\xa0°F Wind: 3 mph ↑ from West More weather last week 27\\xa0°F 25\\xa0°F 28\\xa0°F 38 / 25\\xa0°F 37 / 26\\xa0°F 40 / 26\\xa0°F 40 / 27\\xa0°F 40 / 31\\xa0°F 46 / 38\\xa0°F 46 / 36\\xa0°F Sun & Moon times precise to the second. Privacy Policy Weather', 'score': 0.9981178, 'raw_content': None}, {'title': 'Edinburgh, City of Edinburgh, United Kingdom Weather Forecast | AccuWeather', 'url': 'https://www.accuweather.com/en/gb/edinburgh/eh1-3/weather-forecast/327336', 'content': \"Hi: 53°\\nTonight: Partly to mostly cloudy with on-and-off rain and drizzle late\\nLo: 41°\\nCurrent Weather\\n12:25 PM\\nMINUTECAST™\\nRain ending in 1 min\\nLooking Ahead\\nExpect rainy weather late Wednesday night through Friday morning\\nEdinburgh Weather Radar & Maps\\nHourly Weather\\n10-Day Weather Forecast\\nToday\\n3/13\\nA few showers this morning\\nNight: Rain and drizzle late\\nThu\\n3/14\\nRain tapering off\\nRain\\nFri\\n3/15\\nRain and drizzle in the a.m.\\nMainly clear\\nSat\\n3/16\\nCloudy, a shower in the p.m.\\nCloudy, rain, mainly early\\nSun\\n3/17\\nPartly sunny and not as cool\\nPartly cloudy\\nMon\\n3/18\\nMostly cloudy\\nClouds breaking\\nTue\\n3/19\\nA few afternoon showers\\nCloudy with a few showers\\nWed\\n3/20\\nA couple of afternoon showers\\nOccasional evening rain\\nThu\\n3/21\\nVariably cloudy with a shower\\nCold with increasing clouds\\nFri\\n3/22\\nLow clouds\\nMostly cloudy\\nSun & Moon\\nAir Quality\\nThe air quality is generally acceptable for most individuals. Allergy Outlook\\nTop Stories\\nSevere Weather\\nTornadoes, hail, and high winds: 60 million brace for severe weather\\n53 minutes ago\\nRecreation\\nSkier dies after falling nearly 600 feet down Mount Washington ravine\\n1 day ago\\nWinter Weather\\nBiggest snowstorm of the season may be headed for Denver\\n2 hours ago\\nWeather News\\nFans worry as bald eagle pair Jackie and Shadow's eggs fail to hatch\\n15 hours ago\\nSolar Eclipse 2024\\nSolar eclipse weather forecast: AccuWeather provides 1st cloud outlook\\n1 day ago\\nFeatured Stories\\nWeather News\\nBlizzard of '93: Remembering the Storm of the Century\\n18 hours ago\\nWeather News\\nWhat experts say about the theories behind 'chemtrails'\\n22 hours ago\\nTravel\\nPassenger on Boeing flight says pilot told him he lost control\\n19 hours ago\\nWeather News\\nGas prices have surged to four-month highs. Edinburgh, City of Edinburgh\\nEdinburgh\\nCity of Edinburgh\\nAround the Globe\\nAround the Globe\\nHurricane Tracker\\nSevere Weather\\nRadar & Maps\\nNews & Features\\nAstronomy\\nBusiness\\nClimate\\nHealth\\nRecreation\\nSports\\nTravel\\nVideo\\nToday\\n Don’t panic\\n1 day ago\\nWeather News\\nNew deep-sea species revealed, including mystery creature\\n20 hours ago\\nWeather Near Edinburgh:\\nWe have updated our Privacy Policy and Cookie Policy.\\n Today's Weather\\nWed, Mar 13\\nCloudy most of the time; brief morning showers followed by a shower in spots this afternoon\\n\", 'score': 0.989791, 'raw_content': None}, {'title': 'Edinburgh, Scotland Weather - The Weather Channel', 'url': 'https://weather.com/en-GB/weather/hourbyhour/l/Edinburgh+Scotland?canonicalCityId=0423cdfc366acc3a82c01ff6c27135aabc96bfd7b46a3659f427e73e64c9d64b', 'content': 'Hourly Local Weather Forecast, weather conditions, precipitation, dew point, humidity, wind from Weather.com and The Weather Channel ... Hourly Weather-Edinburgh, Scotland. As of 2:37 GMT.', 'score': 0.8702668, 'raw_content': None}, {'title': 'Edinburgh (Edinburgh) weather - Met Office', 'url': 'https://www.metoffice.gov.uk/weather/forecast/gcvwr3zrw', 'content': 'Updated: 15:00 (UTC) on Fri 12 Jan 2024\\nLatest UK daily weather videos\\nVideo forecasts\\nNearest forecasts\\nMore from the Met Office\\nCauses of climate change\\nCumulus clouds\\nCirrus clouds\\nWhat do satellite pictures show?\\n This means that the symbol for 09:00 shows you what you will see from 09:00 to 10:00.\\nChance of precipitation represents how likely it is that rain (or other types of precipitation, such as\\nsleet, snow, hail and drizzle) will fall from the sky at a certain time.\\n For best viewing experience of this website, please enable JavaScript.\\nEdinburgh (Edinburgh) weather\\nFind a forecast\\nPlease choose your location from the nearest places to :\\nForecast days\\nToday\\n Updated: 14:00 (UTC) on Fri 12 Jan 2024\\nSaturday 27 Jan -\\nSaturday 10 Feb\\nAfter a likely milder, more unsettled spell during the preceding week, towards the end of January and into early February there is again an increased likelihood of high pressure having greater influence on UK weather patterns. The warmest year on record globally\\nGlobally 2023 was the warmest year in a series stretching back to 1850, according to figures released today by the Met Office and the University of East Anglia.\\n', 'score': 0.73278314, 'raw_content': None}, {'title': 'Edinburgh, Scotland - The Weather Channel', 'url': 'https://weather.com/en-GB/weather/today/l/Edinburgh+Scotland?canonicalCityId=0423cdfc366acc3a82c01ff6c27135aabc96bfd7b46a3659f427e73e64c9d64b', 'content': \"Today's and tonight's Edinburgh, Scotland weather forecast, weather conditions and Doppler radar from The Weather Channel and Weather.com\", 'score': 0.7061904, 'raw_content': None}], 'response_time': 1.36})]}}\n",
      "-----\n",
      "{'agent': {'messages': [AIMessage(content='The current temperature in Edinburgh, Scotland is 28 degrees Fahrenheit.', additional_kwargs={}, response_metadata={'role': 'assistant', 'content': 'The current temperature in Edinburgh, Scotland is 28 degrees Fahrenheit.', 'token_usage': {'prompt_tokens': 1909, 'total_tokens': 1922, 'completion_tokens': 13}, 'finish_reason': 'stop', 'model_name': 'meta/llama-3.1-405b-instruct'}, id='run-204b9da8-8cac-41a0-9d77-37157e802308-0', usage_metadata={'input_tokens': 1909, 'output_tokens': 13, 'total_tokens': 1922}, role='assistant')]}}\n",
      "-----\n"
     ]
    }
   ],
   "source": [
    "for chunk in agent_executor.stream(\n",
    "    {\"messages\":[HumanMessage(content=\"What is the current temperature in my city?\")]}, config\n",
    "):\n",
    "    print(chunk)\n",
    "    print(\"-----\")\n"
   ]
  },
  {
   "cell_type": "code",
   "execution_count": null,
   "metadata": {},
   "outputs": [],
   "source": []
  }
 ],
 "metadata": {
  "kernelspec": {
   "display_name": "base",
   "language": "python",
   "name": "python3"
  },
  "language_info": {
   "codemirror_mode": {
    "name": "ipython",
    "version": 3
   },
   "file_extension": ".py",
   "mimetype": "text/x-python",
   "name": "python",
   "nbconvert_exporter": "python",
   "pygments_lexer": "ipython3",
   "version": "3.12.7"
  }
 },
 "nbformat": 4,
 "nbformat_minor": 2
}
