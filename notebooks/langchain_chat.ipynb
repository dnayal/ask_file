{
 "cells": [
  {
   "cell_type": "code",
   "execution_count": 1,
   "metadata": {},
   "outputs": [],
   "source": [
    "from dotenv import load_dotenv\n",
    "from langchain_nvidia_ai_endpoints import ChatNVIDIA\n",
    "from langchain_core.messages import HumanMessage, AIMessage\n",
    "\n",
    "from langgraph.checkpoint.memory import MemorySaver\n",
    "from langgraph.graph import START, MessagesState, StateGraph\n",
    "\n",
    "from langchain_core.prompts import ChatPromptTemplate, MessagesPlaceholder\n",
    "\n",
    "from typing import Sequence\n",
    "from langchain_core.messages import BaseMessage\n",
    "from langgraph.graph.message import add_messages\n",
    "from typing_extensions import Annotated, TypedDict\n",
    "\n",
    "from langsmith import utils\n",
    "\n",
    "from langchain_core.messages import SystemMessage, trim_messages\n",
    "\n",
    "import os"
   ]
  },
  {
   "cell_type": "code",
   "execution_count": 2,
   "metadata": {},
   "outputs": [],
   "source": [
    "load_dotenv()\n",
    "\n",
    "os.environ[\"LANGCHAIN_TRACING_V2\"]=\"true\"\n",
    "os.environ[\"LANGCHAIN_ENDPOINT\"]=\"https://eu.api.smith.langchain.com\"\n",
    "os.environ[\"LANGCHAIN_API_KEY\"]=\"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\"\n",
    "os.environ[\"LANGCHAIN_PROJECT\"]=\"pr-juicy-equality-90\"\n",
    "\n",
    "os.environ[\"NVIDIA_API_KEY\"] = \"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\""
   ]
  },
  {
   "cell_type": "code",
   "execution_count": 3,
   "metadata": {},
   "outputs": [
    {
     "data": {
      "text/plain": [
       "True"
      ]
     },
     "execution_count": 3,
     "metadata": {},
     "output_type": "execute_result"
    }
   ],
   "source": [
    "utils.tracing_is_enabled()"
   ]
  },
  {
   "cell_type": "code",
   "execution_count": 4,
   "metadata": {},
   "outputs": [],
   "source": [
    "# initialise NVIDIA model for chat\n",
    "model = ChatNVIDIA(model=\"meta/llama-3.1-405b-instruct\")"
   ]
  },
  {
   "cell_type": "code",
   "execution_count": 5,
   "metadata": {},
   "outputs": [
    {
     "data": {
      "text/plain": [
       "AIMessage(content=\"Namaste Deepak! It's nice to meet you. How are you doing today? Is there something I can help you with or would you like to chat?\", additional_kwargs={}, response_metadata={'role': 'assistant', 'content': \"Namaste Deepak! It's nice to meet you. How are you doing today? Is there something I can help you with or would you like to chat?\", 'token_usage': {'prompt_tokens': 17, 'total_tokens': 50, 'completion_tokens': 33}, 'finish_reason': 'stop', 'model_name': 'meta/llama-3.1-405b-instruct'}, id='run-b5a0b805-25c9-4493-8983-e7a47d41acee-0', usage_metadata={'input_tokens': 17, 'output_tokens': 33, 'total_tokens': 50}, role='assistant')"
      ]
     },
     "execution_count": 5,
     "metadata": {},
     "output_type": "execute_result"
    }
   ],
   "source": [
    "# send the first message\n",
    "model.invoke([HumanMessage(content=\"Hi! I am Deepak\")])"
   ]
  },
  {
   "cell_type": "code",
   "execution_count": 6,
   "metadata": {},
   "outputs": [
    {
     "data": {
      "text/plain": [
       "AIMessage(content=\"I don't have any information about your name. I'm a large language model, I don't have personal interactions or memories, so I don't retain information about individual users. Each time you interact with me, it's a new conversation and I don't have any prior knowledge about you. If you'd like to introduce yourself, I'd be happy to chat with you!\", additional_kwargs={}, response_metadata={'role': 'assistant', 'content': \"I don't have any information about your name. I'm a large language model, I don't have personal interactions or memories, so I don't retain information about individual users. Each time you interact with me, it's a new conversation and I don't have any prior knowledge about you. If you'd like to introduce yourself, I'd be happy to chat with you!\", 'token_usage': {'prompt_tokens': 16, 'total_tokens': 92, 'completion_tokens': 76}, 'finish_reason': 'stop', 'model_name': 'meta/llama-3.1-405b-instruct'}, id='run-6257d71c-1182-4fe9-aef5-f2fda5ef3382-0', usage_metadata={'input_tokens': 16, 'output_tokens': 76, 'total_tokens': 92}, role='assistant')"
      ]
     },
     "execution_count": 6,
     "metadata": {},
     "output_type": "execute_result"
    }
   ],
   "source": [
    "# send follow up message to see if the model remembers - it wont\n",
    "model.invoke([HumanMessage(content=\"What was my name?\")])"
   ]
  },
  {
   "cell_type": "code",
   "execution_count": 7,
   "metadata": {},
   "outputs": [
    {
     "data": {
      "text/plain": [
       "AIMessage(content='Your name is Deepak!', additional_kwargs={}, response_metadata={'role': 'assistant', 'content': 'Your name is Deepak!', 'token_usage': {'prompt_tokens': 50, 'total_tokens': 56, 'completion_tokens': 6}, 'finish_reason': 'stop', 'model_name': 'meta/llama-3.1-405b-instruct'}, id='run-fc7c088c-8828-42fb-8858-71157b06761e-0', usage_metadata={'input_tokens': 50, 'output_tokens': 6, 'total_tokens': 56}, role='assistant')"
      ]
     },
     "execution_count": 7,
     "metadata": {},
     "output_type": "execute_result"
    }
   ],
   "source": [
    "# send full message history to get the context\n",
    "model.invoke(\n",
    "    [\n",
    "        HumanMessage(content=\"Hi! I am Deepak\"),\n",
    "        AIMessage(content=\"Hi Deepak! Nice to meet you! Is there something I can help you with?\"),\n",
    "        HumanMessage(content=\"What was my name?\")\n",
    "    ]\n",
    "\n",
    ")"
   ]
  },
  {
   "cell_type": "markdown",
   "metadata": {},
   "source": [
    "## Prompt template"
   ]
  },
  {
   "cell_type": "code",
   "execution_count": 8,
   "metadata": {},
   "outputs": [],
   "source": [
    "prompt = ChatPromptTemplate.from_messages(\n",
    "    [\n",
    "        (\n",
    "            \"system\",\n",
    "            \"You are a helpful translator. Answer all questions in {language}.\"\n",
    "        ),\n",
    "        MessagesPlaceholder(variable_name=\"messages\")\n",
    "    ]\n",
    ")"
   ]
  },
  {
   "cell_type": "markdown",
   "metadata": {},
   "source": [
    "## Message Persistence"
   ]
  },
  {
   "cell_type": "code",
   "execution_count": 9,
   "metadata": {},
   "outputs": [],
   "source": [
    "trimmer = trim_messages(\n",
    "    max_tokens = 100,\n",
    "    strategy = \"last\",\n",
    "    token_counter = model,\n",
    "    include_system = True,\n",
    "    allow_partial = False,\n",
    "    start_on = \"human\"\n",
    ")"
   ]
  },
  {
   "cell_type": "code",
   "execution_count": 10,
   "metadata": {},
   "outputs": [],
   "source": [
    "class State(TypedDict):\n",
    "    messages: Annotated[Sequence[BaseMessage], add_messages]\n",
    "    language: str\n",
    "\n",
    "workflow = StateGraph(state_schema=State)\n",
    "\n",
    "def call_model(state: State):\n",
    "    chain = prompt | model\n",
    "    trimmed_messages = trimmer.invoke(state[\"messages\"])\n",
    "    print(f\"TRIM: ========={trimmed_messages[-1]}=========\")\n",
    "    response = chain.invoke(\n",
    "        {\"messages\":trimmed_messages, \"language\":state[\"language\"]}\n",
    "    )\n",
    "    return {\"messages\": response}\n",
    "\n",
    "workflow.add_edge(START, \"model\")\n",
    "workflow.add_node(\"model\", call_model)\n",
    "\n",
    "memory = MemorySaver()\n",
    "app = workflow.compile(checkpointer=memory)"
   ]
  },
  {
   "cell_type": "code",
   "execution_count": 11,
   "metadata": {},
   "outputs": [],
   "source": [
    "# This enables us to support multiple conversation threads with a single application, a common requirement when your application has multiple users.\n",
    "config = {\"configurable\": {\"thread_id\":\"abc123\"}}"
   ]
  },
  {
   "cell_type": "code",
   "execution_count": 12,
   "metadata": {},
   "outputs": [
    {
     "data": {
      "application/vnd.jupyter.widget-view+json": {
       "model_id": "540c423648144349aef01b41832d4254",
       "version_major": 2,
       "version_minor": 0
      },
      "text/plain": [
       "tokenizer_config.json:   0%|          | 0.00/26.0 [00:00<?, ?B/s]"
      ]
     },
     "metadata": {},
     "output_type": "display_data"
    },
    {
     "data": {
      "application/vnd.jupyter.widget-view+json": {
       "model_id": "9313e171875f4f66b7a697468489c87f",
       "version_major": 2,
       "version_minor": 0
      },
      "text/plain": [
       "vocab.json:   0%|          | 0.00/1.04M [00:00<?, ?B/s]"
      ]
     },
     "metadata": {},
     "output_type": "display_data"
    },
    {
     "data": {
      "application/vnd.jupyter.widget-view+json": {
       "model_id": "fd7246945cd54a5187eceabc5bb7aa2f",
       "version_major": 2,
       "version_minor": 0
      },
      "text/plain": [
       "merges.txt:   0%|          | 0.00/456k [00:00<?, ?B/s]"
      ]
     },
     "metadata": {},
     "output_type": "display_data"
    },
    {
     "data": {
      "application/vnd.jupyter.widget-view+json": {
       "model_id": "024eac7ebc0e49a6bf5388bda7c3b78b",
       "version_major": 2,
       "version_minor": 0
      },
      "text/plain": [
       "tokenizer.json:   0%|          | 0.00/1.36M [00:00<?, ?B/s]"
      ]
     },
     "metadata": {},
     "output_type": "display_data"
    },
    {
     "data": {
      "application/vnd.jupyter.widget-view+json": {
       "model_id": "0b1db3735c334bf8a28cf0fb465f0516",
       "version_major": 2,
       "version_minor": 0
      },
      "text/plain": [
       "config.json:   0%|          | 0.00/665 [00:00<?, ?B/s]"
      ]
     },
     "metadata": {},
     "output_type": "display_data"
    },
    {
     "name": "stdout",
     "output_type": "stream",
     "text": [
      "TRIM: =========content='Hi! I am Myra' additional_kwargs={} response_metadata={} id='90fd8e86-2c7f-47cb-a831-89b2d56b1aa7'=========\n"
     ]
    },
    {
     "data": {
      "text/plain": [
       "[HumanMessage(content='Hi! I am Myra', additional_kwargs={}, response_metadata={}, id='90fd8e86-2c7f-47cb-a831-89b2d56b1aa7'),\n",
       " AIMessage(content='Hello Myra! Nice to meet you. How can I help you today? Do you need some translation help or just want to chat?', additional_kwargs={}, response_metadata={'role': 'assistant', 'content': 'Hello Myra! Nice to meet you. How can I help you today? Do you need some translation help or just want to chat?', 'token_usage': {'prompt_tokens': 34, 'total_tokens': 62, 'completion_tokens': 28}, 'finish_reason': 'stop', 'model_name': 'meta/llama-3.1-405b-instruct'}, id='run-8b17a446-fd32-4760-9751-49996efa1e37-0', usage_metadata={'input_tokens': 34, 'output_tokens': 28, 'total_tokens': 62}, role='assistant')]"
      ]
     },
     "execution_count": 12,
     "metadata": {},
     "output_type": "execute_result"
    }
   ],
   "source": [
    "query = \"Hi! I am Myra\"\n",
    "language = \"English\"\n",
    "\n",
    "input_messages = [HumanMessage(query)]\n",
    "output = app.invoke({\"messages\": input_messages, \"language\": language}, config)\n",
    "\n",
    "output[\"messages\"]#[-1].pretty_print()"
   ]
  },
  {
   "cell_type": "code",
   "execution_count": 13,
   "metadata": {},
   "outputs": [
    {
     "name": "stdout",
     "output_type": "stream",
     "text": [
      "TRIM: =========content='What is my name?' additional_kwargs={} response_metadata={} id='5ab708d1-fecf-4903-8af6-278476c0a81d'=========\n"
     ]
    },
    {
     "data": {
      "text/plain": [
       "[HumanMessage(content='Hi! I am Myra', additional_kwargs={}, response_metadata={}, id='90fd8e86-2c7f-47cb-a831-89b2d56b1aa7'),\n",
       " AIMessage(content='Hello Myra! Nice to meet you. How can I help you today? Do you need some translation help or just want to chat?', additional_kwargs={}, response_metadata={'role': 'assistant', 'content': 'Hello Myra! Nice to meet you. How can I help you today? Do you need some translation help or just want to chat?', 'token_usage': {'prompt_tokens': 34, 'total_tokens': 62, 'completion_tokens': 28}, 'finish_reason': 'stop', 'model_name': 'meta/llama-3.1-405b-instruct'}, id='run-8b17a446-fd32-4760-9751-49996efa1e37-0', usage_metadata={'input_tokens': 34, 'output_tokens': 28, 'total_tokens': 62}, role='assistant'),\n",
       " HumanMessage(content='What is my name?', additional_kwargs={}, response_metadata={}, id='5ab708d1-fecf-4903-8af6-278476c0a81d'),\n",
       " AIMessage(content='Your name is Myra!', additional_kwargs={}, response_metadata={'role': 'assistant', 'content': 'Your name is Myra!', 'token_usage': {'prompt_tokens': 77, 'total_tokens': 83, 'completion_tokens': 6}, 'finish_reason': 'stop', 'model_name': 'meta/llama-3.1-405b-instruct'}, id='run-ae4278ed-a69c-46b9-9218-b05a5295f712-0', usage_metadata={'input_tokens': 77, 'output_tokens': 6, 'total_tokens': 83}, role='assistant')]"
      ]
     },
     "execution_count": 13,
     "metadata": {},
     "output_type": "execute_result"
    }
   ],
   "source": [
    "query = \"What is my name?\"\n",
    "\n",
    "input_messages = [HumanMessage(query)]\n",
    "output = app.invoke({\"messages\": input_messages}, config)\n",
    "\n",
    "output[\"messages\"]#[-1].pretty_print()"
   ]
  },
  {
   "cell_type": "code",
   "execution_count": null,
   "metadata": {},
   "outputs": [],
   "source": []
  },
  {
   "cell_type": "code",
   "execution_count": null,
   "metadata": {},
   "outputs": [],
   "source": []
  }
 ],
 "metadata": {
  "kernelspec": {
   "display_name": "base",
   "language": "python",
   "name": "python3"
  },
  "language_info": {
   "codemirror_mode": {
    "name": "ipython",
    "version": 3
   },
   "file_extension": ".py",
   "mimetype": "text/x-python",
   "name": "python",
   "nbconvert_exporter": "python",
   "pygments_lexer": "ipython3",
   "version": "3.12.7"
  }
 },
 "nbformat": 4,
 "nbformat_minor": 2
}
